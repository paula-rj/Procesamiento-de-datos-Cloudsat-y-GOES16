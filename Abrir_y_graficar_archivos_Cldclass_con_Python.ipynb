{
  "nbformat": 4,
  "nbformat_minor": 0,
  "metadata": {
    "colab": {
      "name": "Abrir y graficar archivos Cldclass con Python.ipynb",
      "provenance": [],
      "collapsed_sections": [],
      "toc_visible": true,
      "mount_file_id": "1Ya3-SqbSz96Moaix9DJEILJZve-FPmGg",
      "authorship_tag": "ABX9TyNu/ge7770NO8NqSzwiOGnq",
      "include_colab_link": true
    },
    "kernelspec": {
      "display_name": "Python 3",
      "name": "python3"
    }
  },
  "cells": [
    {
      "cell_type": "markdown",
      "metadata": {
        "id": "view-in-github",
        "colab_type": "text"
      },
      "source": [
        "<a href=\"https://colab.research.google.com/github/paula-rj/Procesamiento-de-datos-Cloudsat-y-GOES16/blob/main/Abrir_y_graficar_archivos_Cldclass_con_Python.ipynb\" target=\"_parent\"><img src=\"https://colab.research.google.com/assets/colab-badge.svg\" alt=\"Open In Colab\"/></a>"
      ]
    },
    {
      "cell_type": "markdown",
      "metadata": {
        "id": "LBXIPkUAzUKc"
      },
      "source": [
        "#Abrir archivos CLDCLASS y graficarlos con Python"
      ]
    },
    {
      "cell_type": "markdown",
      "metadata": {
        "id": "tKIsZFbxW5vX"
      },
      "source": [
        "## Manuales\n",
        "[Cloudsat](https://ccplot.org/pub/resources/CloudSat/CloudSat%20Data%20Users%20Handbook.pdf)\n",
        "\n",
        "[Archivos CLDCLASS](http://www.cloudsat.cira.colostate.edu/sites/default/files/products/files/2B-CLDCLASS_PDICD.P1_R05.rev1_.pdf) de Cloudsat, manual más actualizado.\n",
        "\n",
        "\n",
        "[VS data](http://pysclint.sourceforge.net/pyhdf/pyhdf.VS.html) en pyhdf\n",
        "\n",
        "[Fuente](https://docserver.gesdisc.eosdis.nasa.gov/public/project/MEaSUREs/Fetzer/README.AIRS_CloudSat.pdf) de la mayor parte del codigo"
      ]
    },
    {
      "cell_type": "markdown",
      "metadata": {
        "id": "d5YbzVU6_9cv"
      },
      "source": [
        "# Instalar librerías\n",
        "Primero instalamos todas las librerias que haya que instalar. \n",
        "\n",
        "En Colab estas serian:\n",
        "Geopandas, Basemap, PyHDF, Cartopy, NetCDF4.\n",
        "\n",
        "En Kaggle: PyHDF, Cartopy."
      ]
    },
    {
      "cell_type": "code",
      "metadata": {
        "id": "s396nIUEISeW"
      },
      "source": [
        "#Instalar basemap\n",
        "#No lo estoy usando porque 'is depracated in favor of cortopy' pero bueno lo dejo acá por las dudas\n",
        "#!apt-get install libgeos-3.5.0\n",
        "#!apt-get install libgeos-dev\n",
        "#!pip install https://github.com/matplotlib/basemap/archive/master.zip"
      ],
      "execution_count": 2,
      "outputs": []
    },
    {
      "cell_type": "code",
      "metadata": {
        "colab": {
          "base_uri": "https://localhost:8080/"
        },
        "id": "fYkkYo0cLDP-",
        "outputId": "877a5d1b-cac5-4044-ee18-bc9aa7dd193e"
      },
      "source": [
        "#Si estas en kaggle, pasar o comentar esta linea, no hace falta\n",
        "!pip install geopandas"
      ],
      "execution_count": 3,
      "outputs": [
        {
          "output_type": "stream",
          "text": [
            "Collecting geopandas\n",
            "\u001b[?25l  Downloading https://files.pythonhosted.org/packages/d7/bf/e9cefb69d39155d122b6ddca53893b61535fa6ffdad70bf5ef708977f53f/geopandas-0.9.0-py2.py3-none-any.whl (994kB)\n",
            "\u001b[K     |████████████████████████████████| 1.0MB 9.3MB/s \n",
            "\u001b[?25hCollecting fiona>=1.8\n",
            "\u001b[?25l  Downloading https://files.pythonhosted.org/packages/ea/2a/404b22883298a3efe9c6ef8d67acbf2c38443fa366ee9cd4cd34e17626ea/Fiona-1.8.19-cp37-cp37m-manylinux1_x86_64.whl (15.3MB)\n",
            "\u001b[K     |████████████████████████████████| 15.3MB 203kB/s \n",
            "\u001b[?25hRequirement already satisfied: shapely>=1.6 in /usr/local/lib/python3.7/dist-packages (from geopandas) (1.7.1)\n",
            "Collecting pyproj>=2.2.0\n",
            "\u001b[?25l  Downloading https://files.pythonhosted.org/packages/b1/72/d52e9ca81caef056062d71991b0e9b1d16af042245627c5d0e4916a36c4f/pyproj-3.0.1-cp37-cp37m-manylinux2010_x86_64.whl (6.5MB)\n",
            "\u001b[K     |████████████████████████████████| 6.5MB 28.4MB/s \n",
            "\u001b[?25hRequirement already satisfied: pandas>=0.24.0 in /usr/local/lib/python3.7/dist-packages (from geopandas) (1.1.5)\n",
            "Requirement already satisfied: certifi in /usr/local/lib/python3.7/dist-packages (from fiona>=1.8->geopandas) (2020.12.5)\n",
            "Collecting munch\n",
            "  Downloading https://files.pythonhosted.org/packages/cc/ab/85d8da5c9a45e072301beb37ad7f833cd344e04c817d97e0cc75681d248f/munch-2.5.0-py2.py3-none-any.whl\n",
            "Requirement already satisfied: attrs>=17 in /usr/local/lib/python3.7/dist-packages (from fiona>=1.8->geopandas) (21.2.0)\n",
            "Collecting cligj>=0.5\n",
            "  Downloading https://files.pythonhosted.org/packages/42/1e/947eadf10d6804bf276eb8a038bd5307996dceaaa41cfd21b7a15ec62f5d/cligj-0.7.1-py3-none-any.whl\n",
            "Requirement already satisfied: six>=1.7 in /usr/local/lib/python3.7/dist-packages (from fiona>=1.8->geopandas) (1.15.0)\n",
            "Collecting click<8,>=4.0\n",
            "\u001b[?25l  Downloading https://files.pythonhosted.org/packages/d2/3d/fa76db83bf75c4f8d338c2fd15c8d33fdd7ad23a9b5e57eb6c5de26b430e/click-7.1.2-py2.py3-none-any.whl (82kB)\n",
            "\u001b[K     |████████████████████████████████| 92kB 8.6MB/s \n",
            "\u001b[?25hCollecting click-plugins>=1.0\n",
            "  Downloading https://files.pythonhosted.org/packages/e9/da/824b92d9942f4e472702488857914bdd50f73021efea15b4cad9aca8ecef/click_plugins-1.1.1-py2.py3-none-any.whl\n",
            "Requirement already satisfied: pytz>=2017.2 in /usr/local/lib/python3.7/dist-packages (from pandas>=0.24.0->geopandas) (2018.9)\n",
            "Requirement already satisfied: numpy>=1.15.4 in /usr/local/lib/python3.7/dist-packages (from pandas>=0.24.0->geopandas) (1.19.5)\n",
            "Requirement already satisfied: python-dateutil>=2.7.3 in /usr/local/lib/python3.7/dist-packages (from pandas>=0.24.0->geopandas) (2.8.1)\n",
            "Installing collected packages: munch, click, cligj, click-plugins, fiona, pyproj, geopandas\n",
            "  Found existing installation: click 8.0.0\n",
            "    Uninstalling click-8.0.0:\n",
            "      Successfully uninstalled click-8.0.0\n",
            "Successfully installed click-7.1.2 click-plugins-1.1.1 cligj-0.7.1 fiona-1.8.19 geopandas-0.9.0 munch-2.5.0 pyproj-3.0.1\n"
          ],
          "name": "stdout"
        }
      ]
    },
    {
      "cell_type": "code",
      "metadata": {
        "colab": {
          "base_uri": "https://localhost:8080/"
        },
        "id": "7AL1-PyJHgJW",
        "outputId": "ccacadf5-2fb6-4d42-a21d-ef0a71357039"
      },
      "source": [
        "%%bash\n",
        "apt-get install build-essential python3-dev python3-numpy libhdf4-dev -y"
      ],
      "execution_count": 4,
      "outputs": [
        {
          "output_type": "stream",
          "text": [
            "Reading package lists...\n",
            "Building dependency tree...\n",
            "Reading state information...\n",
            "build-essential is already the newest version (12.4ubuntu1).\n",
            "python3-dev is already the newest version (3.6.7-1~18.04).\n",
            "python3-dev set to manually installed.\n",
            "The following packages were automatically installed and are no longer required:\n",
            "  default-libmysqlclient-dev libarmadillo-dev libarpack2-dev libdap-dev\n",
            "  libdapserver7v5 libepsilon-dev libfreexl-dev libfyba-dev libgeos-dev\n",
            "  libgeotiff-dev libgif-dev libjson-c-dev libkml-dev libkmlconvenience1\n",
            "  libkmlregionator1 libkmlxsd1 libminizip-dev libmysqlclient-dev libnetcdf-dev\n",
            "  libnvidia-common-460 libogdi3.2-dev libopenjp2-7-dev libpoppler-dev\n",
            "  libpoppler-private-dev libpq-dev libproj-dev libqhull-dev libqhull-r7\n",
            "  libspatialite-dev libsqlite3-dev libsuperlu-dev liburiparser-dev libwebp-dev\n",
            "  libxerces-c-dev unixodbc-dev\n",
            "Use 'apt autoremove' to remove them.\n",
            "The following additional packages will be installed:\n",
            "  libhdf4-0\n",
            "Suggested packages:\n",
            "  libhdf4-doc hdf4-tools python-numpy-doc python3-nose python3-numpy-dbg\n",
            "The following packages will be REMOVED:\n",
            "  libgdal-dev libhdf4-alt-dev\n",
            "The following NEW packages will be installed:\n",
            "  libhdf4-0 libhdf4-dev python3-numpy\n",
            "0 upgraded, 3 newly installed, 2 to remove and 34 not upgraded.\n",
            "Need to get 2,659 kB of archives.\n",
            "After this operation, 27.0 MB disk space will be freed.\n",
            "Get:1 http://archive.ubuntu.com/ubuntu bionic/universe amd64 libhdf4-0 amd64 4.2.13-2 [301 kB]\n",
            "Get:2 http://archive.ubuntu.com/ubuntu bionic/universe amd64 libhdf4-dev amd64 4.2.13-2 [415 kB]\n",
            "Get:3 http://archive.ubuntu.com/ubuntu bionic/main amd64 python3-numpy amd64 1:1.13.3-2ubuntu1 [1,943 kB]\n",
            "Fetched 2,659 kB in 2s (1,737 kB/s)\n",
            "(Reading database ... \r(Reading database ... 5%\r(Reading database ... 10%\r(Reading database ... 15%\r(Reading database ... 20%\r(Reading database ... 25%\r(Reading database ... 30%\r(Reading database ... 35%\r(Reading database ... 40%\r(Reading database ... 45%\r(Reading database ... 50%\r(Reading database ... 55%\r(Reading database ... 60%\r(Reading database ... 65%\r(Reading database ... 70%\r(Reading database ... 75%\r(Reading database ... 80%\r(Reading database ... 85%\r(Reading database ... 90%\r(Reading database ... 95%\r(Reading database ... 100%\r(Reading database ... 160706 files and directories currently installed.)\r\n",
            "Removing libgdal-dev (2.2.3+dfsg-2) ...\r\n",
            "Removing libhdf4-alt-dev (4.2.13-2) ...\r\n",
            "Selecting previously unselected package libhdf4-0.\r\n",
            "(Reading database ... \r(Reading database ... 5%\r(Reading database ... 10%\r(Reading database ... 15%\r(Reading database ... 20%\r(Reading database ... 25%\r(Reading database ... 30%\r(Reading database ... 35%\r(Reading database ... 40%\r(Reading database ... 45%\r(Reading database ... 50%\r(Reading database ... 55%\r(Reading database ... 60%\r(Reading database ... 65%\r(Reading database ... 70%\r(Reading database ... 75%\r(Reading database ... 80%\r(Reading database ... 85%\r(Reading database ... 90%\r(Reading database ... 95%\r(Reading database ... 100%\r(Reading database ... 160558 files and directories currently installed.)\r\n",
            "Preparing to unpack .../libhdf4-0_4.2.13-2_amd64.deb ...\r\n",
            "Unpacking libhdf4-0 (4.2.13-2) ...\r\n",
            "Selecting previously unselected package libhdf4-dev.\r\n",
            "Preparing to unpack .../libhdf4-dev_4.2.13-2_amd64.deb ...\r\n",
            "Unpacking libhdf4-dev (4.2.13-2) ...\r\n",
            "Selecting previously unselected package python3-numpy.\r\n",
            "Preparing to unpack .../python3-numpy_1%3a1.13.3-2ubuntu1_amd64.deb ...\r\n",
            "Unpacking python3-numpy (1:1.13.3-2ubuntu1) ...\r\n",
            "Setting up python3-numpy (1:1.13.3-2ubuntu1) ...\r\n",
            "Setting up libhdf4-0 (4.2.13-2) ...\r\n",
            "Setting up libhdf4-dev (4.2.13-2) ...\r\n",
            "Processing triggers for libc-bin (2.27-3ubuntu1.2) ...\r\n",
            "/sbin/ldconfig.real: /usr/local/lib/python3.7/dist-packages/ideep4py/lib/libmkldnn.so.0 is not a symbolic link\r\n",
            "\r\n",
            "Processing triggers for man-db (2.8.3-2ubuntu0.1) ...\r\n"
          ],
          "name": "stdout"
        }
      ]
    },
    {
      "cell_type": "code",
      "metadata": {
        "colab": {
          "base_uri": "https://localhost:8080/"
        },
        "id": "5021qVKm4Jk3",
        "outputId": "0be38449-21bf-4fd4-c932-1737df9d4517"
      },
      "source": [
        "#Instalar pyhdf\n",
        "%%bash\n",
        "pip install pyhdf #git+https://github.com/hdfeos/pyhdf.git"
      ],
      "execution_count": 5,
      "outputs": [
        {
          "output_type": "stream",
          "text": [
            "Collecting pyhdf\n",
            "  Downloading https://files.pythonhosted.org/packages/38/58/c0a756c2444c14fad7af6ef45f3d273b4320fefdb530de65d6373e204f93/pyhdf-0.10.2.tar.gz (149kB)\n",
            "  Installing build dependencies: started\n",
            "  Installing build dependencies: finished with status 'done'\n",
            "  Getting requirements to build wheel: started\n",
            "  Getting requirements to build wheel: finished with status 'done'\n",
            "    Preparing wheel metadata: started\n",
            "    Preparing wheel metadata: finished with status 'done'\n",
            "Building wheels for collected packages: pyhdf\n",
            "  Building wheel for pyhdf (PEP 517): started\n",
            "  Building wheel for pyhdf (PEP 517): finished with status 'done'\n",
            "  Created wheel for pyhdf: filename=pyhdf-0.10.2-cp37-cp37m-linux_x86_64.whl size=256772 sha256=43e2a78ab6add48ba1bbc6478a14e7c2028ad310f9f994082225f06b8dd6b124\n",
            "  Stored in directory: /root/.cache/pip/wheels/6c/34/4c/25b83941b312940026288083fbcfba3679d21d0617e83846b5\n",
            "Successfully built pyhdf\n",
            "Installing collected packages: pyhdf\n",
            "Successfully installed pyhdf-0.10.2\n"
          ],
          "name": "stdout"
        }
      ]
    },
    {
      "cell_type": "code",
      "metadata": {
        "colab": {
          "base_uri": "https://localhost:8080/"
        },
        "id": "FkpNpmZIRFn2",
        "outputId": "b2b35d33-dcc9-4efe-9780-b8f291709d4c"
      },
      "source": [
        "#Si estas en kaggle, pasar o comentar esta linea, no hace falta\n",
        "#En Colab Cartopy se rompe si no tiene instalados estos paquetes (2021)\n",
        "!apt-get install -qq libgdal-dev libproj-dev\n",
        "!pip install --no-binary shapely shapely --force"
      ],
      "execution_count": 6,
      "outputs": [
        {
          "output_type": "stream",
          "text": [
            "(Reading database ... \r(Reading database ... 5%\r(Reading database ... 10%\r(Reading database ... 15%\r(Reading database ... 20%\r(Reading database ... 25%\r(Reading database ... 30%\r(Reading database ... 35%\r(Reading database ... 40%\r(Reading database ... 45%\r(Reading database ... 50%\r(Reading database ... 55%\r(Reading database ... 60%\r(Reading database ... 65%\r(Reading database ... 70%\r(Reading database ... 75%\r(Reading database ... 80%\r(Reading database ... 85%\r(Reading database ... 90%\r(Reading database ... 95%\r(Reading database ... 100%\r(Reading database ... 161020 files and directories currently installed.)\n",
            "Removing libhdf4-dev (4.2.13-2) ...\n",
            "Selecting previously unselected package libhdf4-alt-dev.\n",
            "(Reading database ... 160951 files and directories currently installed.)\n",
            "Preparing to unpack .../libhdf4-alt-dev_4.2.13-2_amd64.deb ...\n",
            "Unpacking libhdf4-alt-dev (4.2.13-2) ...\n",
            "Selecting previously unselected package libgdal-dev.\n",
            "Preparing to unpack .../libgdal-dev_2.2.3+dfsg-2_amd64.deb ...\n",
            "Unpacking libgdal-dev (2.2.3+dfsg-2) ...\n",
            "Setting up libhdf4-alt-dev (4.2.13-2) ...\n",
            "Setting up libgdal-dev (2.2.3+dfsg-2) ...\n",
            "Processing triggers for man-db (2.8.3-2ubuntu0.1) ...\n",
            "Collecting shapely\n",
            "\u001b[?25l  Downloading https://files.pythonhosted.org/packages/42/f3/0e1bc2c4f15e05e30c6b99322b9ddaa2babb3f43bc7df2698efdc1553439/Shapely-1.7.1.tar.gz (383kB)\n",
            "\u001b[K     |████████████████████████████████| 389kB 9.2MB/s \n",
            "\u001b[?25hSkipping wheel build for shapely, due to binaries being disabled for it.\n",
            "\u001b[31mERROR: albumentations 0.1.12 has requirement imgaug<0.2.7,>=0.2.5, but you'll have imgaug 0.2.9 which is incompatible.\u001b[0m\n",
            "Installing collected packages: shapely\n",
            "  Found existing installation: Shapely 1.7.1\n",
            "    Uninstalling Shapely-1.7.1:\n",
            "      Successfully uninstalled Shapely-1.7.1\n",
            "    Running setup.py install for shapely ... \u001b[?25l\u001b[?25hdone\n",
            "Successfully installed shapely-1.7.1\n"
          ],
          "name": "stdout"
        }
      ]
    },
    {
      "cell_type": "code",
      "metadata": {
        "colab": {
          "base_uri": "https://localhost:8080/"
        },
        "id": "C-f8wwwjdTmC",
        "outputId": "475ca2be-4d09-49e4-a4dd-cefe32ff8511"
      },
      "source": [
        "!pip install cartopy"
      ],
      "execution_count": 9,
      "outputs": [
        {
          "output_type": "stream",
          "text": [
            "Collecting cartopy\n",
            "\u001b[?25l  Downloading https://files.pythonhosted.org/packages/ed/ca/524ce33692df3faeaa56852fb6a33b0b410be94cc288417565b96fef3f64/Cartopy-0.19.0.post1.tar.gz (12.1MB)\n",
            "\u001b[K     |████████████████████████████████| 12.1MB 9.3MB/s \n",
            "\u001b[?25h  Installing build dependencies ... \u001b[?25l\u001b[?25hdone\n",
            "  Getting requirements to build wheel ... \u001b[?25l\u001b[?25hdone\n",
            "    Preparing wheel metadata ... \u001b[?25l\u001b[?25hdone\n",
            "Requirement already satisfied: shapely>=1.5.6 in /usr/local/lib/python3.7/dist-packages (from cartopy) (1.7.1)\n",
            "Requirement already satisfied: numpy>=1.13.3 in /usr/local/lib/python3.7/dist-packages (from cartopy) (1.19.5)\n",
            "Collecting pyshp>=2\n",
            "\u001b[?25l  Downloading https://files.pythonhosted.org/packages/38/85/fbf87e7aa55103e0d06af756bdbc15cf821fa580414c23142d60a35d4f85/pyshp-2.1.3.tar.gz (219kB)\n",
            "\u001b[K     |████████████████████████████████| 225kB 30.8MB/s \n",
            "\u001b[?25hBuilding wheels for collected packages: cartopy\n",
            "  Building wheel for cartopy (PEP 517) ... \u001b[?25l\u001b[?25hdone\n",
            "  Created wheel for cartopy: filename=Cartopy-0.19.0.post1-cp37-cp37m-linux_x86_64.whl size=12516154 sha256=2c550cf8478b5cd29ff51ba3717c50de565308a8b5bf21e4aa051b02e12736c1\n",
            "  Stored in directory: /root/.cache/pip/wheels/45/7f/3b/37879587817fd1bbbee7b47312e2401b4f542cccf2fbe9b4ee\n",
            "Successfully built cartopy\n",
            "Building wheels for collected packages: pyshp\n",
            "  Building wheel for pyshp (setup.py) ... \u001b[?25l\u001b[?25hdone\n",
            "  Created wheel for pyshp: filename=pyshp-2.1.3-cp37-none-any.whl size=37264 sha256=2cec19becb2db104002f9f50fd5e1c7872c0a451ca7b2a0fd1510a2873d02762\n",
            "  Stored in directory: /root/.cache/pip/wheels/76/2b/d4/53e6b9a0fb0a9f9f29664cf82605af8bc81d5ab44d987896dd\n",
            "Successfully built pyshp\n",
            "Installing collected packages: pyshp, cartopy\n",
            "Successfully installed cartopy-0.19.0.post1 pyshp-2.1.3\n"
          ],
          "name": "stdout"
        }
      ]
    },
    {
      "cell_type": "code",
      "metadata": {
        "colab": {
          "base_uri": "https://localhost:8080/"
        },
        "id": "Zax8uAnw-aEi",
        "outputId": "0e270f47-c9a2-4d32-90f9-f1c9edec6224"
      },
      "source": [
        "#Si estas en kaggle, pasar o comentar esta linea, no hace falta\n",
        "!pip install netcdf4"
      ],
      "execution_count": 7,
      "outputs": [
        {
          "output_type": "stream",
          "text": [
            "Requirement already satisfied: netcdf4 in /usr/local/lib/python3.7/dist-packages (1.5.6)\n",
            "Requirement already satisfied: numpy>=1.9 in /usr/local/lib/python3.7/dist-packages (from netcdf4) (1.19.5)\n",
            "Requirement already satisfied: cftime in /usr/local/lib/python3.7/dist-packages (from netcdf4) (1.4.1)\n"
          ],
          "name": "stdout"
        }
      ]
    },
    {
      "cell_type": "markdown",
      "metadata": {
        "id": "ta_bJekqxjRe"
      },
      "source": [
        "Contextily sirve para poner un mapa base estio los del gps abajo de los graficos de Geopandas. Si no interesa esto, no instalarlo"
      ]
    },
    {
      "cell_type": "code",
      "metadata": {
        "id": "mC0E3m1aUi0r",
        "colab": {
          "base_uri": "https://localhost:8080/"
        },
        "outputId": "b66828ae-a1f2-4fa8-a20a-ff930cb31217"
      },
      "source": [
        "#Si estas en kaggle, pasar o comentar esta linea, no hace falta\n",
        "!pip install contextily "
      ],
      "execution_count": 8,
      "outputs": [
        {
          "output_type": "stream",
          "text": [
            "Collecting contextily\n",
            "  Downloading https://files.pythonhosted.org/packages/d3/8a/f7916ad000c30b86793a0c7a63946baa413f40f33edb5b10f78a1b150d24/contextily-1.1.0-py3-none-any.whl\n",
            "Requirement already satisfied: requests in /usr/local/lib/python3.7/dist-packages (from contextily) (2.23.0)\n",
            "Collecting mercantile\n",
            "  Downloading https://files.pythonhosted.org/packages/b2/d6/de0cc74f8d36976aeca0dd2e9cbf711882ff8e177495115fd82459afdc4d/mercantile-1.2.1-py3-none-any.whl\n",
            "Requirement already satisfied: matplotlib in /usr/local/lib/python3.7/dist-packages (from contextily) (3.2.2)\n",
            "Requirement already satisfied: geopy in /usr/local/lib/python3.7/dist-packages (from contextily) (1.17.0)\n",
            "Requirement already satisfied: joblib in /usr/local/lib/python3.7/dist-packages (from contextily) (1.0.1)\n",
            "Collecting rasterio\n",
            "\u001b[?25l  Downloading https://files.pythonhosted.org/packages/e1/bf/d3c5e7df3828db144a6797269bf3aec31db96c20f13e75b93179eb059955/rasterio-1.2.3-cp37-cp37m-manylinux1_x86_64.whl (19.1MB)\n",
            "\u001b[K     |████████████████████████████████| 19.1MB 76.6MB/s \n",
            "\u001b[?25hRequirement already satisfied: pillow in /usr/local/lib/python3.7/dist-packages (from contextily) (7.1.2)\n",
            "Requirement already satisfied: idna<3,>=2.5 in /usr/local/lib/python3.7/dist-packages (from requests->contextily) (2.10)\n",
            "Requirement already satisfied: chardet<4,>=3.0.2 in /usr/local/lib/python3.7/dist-packages (from requests->contextily) (3.0.4)\n",
            "Requirement already satisfied: urllib3!=1.25.0,!=1.25.1,<1.26,>=1.21.1 in /usr/local/lib/python3.7/dist-packages (from requests->contextily) (1.24.3)\n",
            "Requirement already satisfied: certifi>=2017.4.17 in /usr/local/lib/python3.7/dist-packages (from requests->contextily) (2020.12.5)\n",
            "Requirement already satisfied: click>=3.0 in /usr/local/lib/python3.7/dist-packages (from mercantile->contextily) (7.1.2)\n",
            "Requirement already satisfied: python-dateutil>=2.1 in /usr/local/lib/python3.7/dist-packages (from matplotlib->contextily) (2.8.1)\n",
            "Requirement already satisfied: numpy>=1.11 in /usr/local/lib/python3.7/dist-packages (from matplotlib->contextily) (1.19.5)\n",
            "Requirement already satisfied: kiwisolver>=1.0.1 in /usr/local/lib/python3.7/dist-packages (from matplotlib->contextily) (1.3.1)\n",
            "Requirement already satisfied: cycler>=0.10 in /usr/local/lib/python3.7/dist-packages (from matplotlib->contextily) (0.10.0)\n",
            "Requirement already satisfied: pyparsing!=2.0.4,!=2.1.2,!=2.1.6,>=2.0.1 in /usr/local/lib/python3.7/dist-packages (from matplotlib->contextily) (2.4.7)\n",
            "Requirement already satisfied: geographiclib<2,>=1.49 in /usr/local/lib/python3.7/dist-packages (from geopy->contextily) (1.50)\n",
            "Collecting affine\n",
            "  Downloading https://files.pythonhosted.org/packages/ac/a6/1a39a1ede71210e3ddaf623982b06ecfc5c5c03741ae659073159184cd3e/affine-2.3.0-py2.py3-none-any.whl\n",
            "Requirement already satisfied: cligj>=0.5 in /usr/local/lib/python3.7/dist-packages (from rasterio->contextily) (0.7.1)\n",
            "Requirement already satisfied: attrs in /usr/local/lib/python3.7/dist-packages (from rasterio->contextily) (21.2.0)\n",
            "Collecting snuggs>=1.4.1\n",
            "  Downloading https://files.pythonhosted.org/packages/cc/0e/d27d6e806d6c0d1a2cfdc5d1f088e42339a0a54a09c3343f7f81ec8947ea/snuggs-1.4.7-py3-none-any.whl\n",
            "Requirement already satisfied: click-plugins in /usr/local/lib/python3.7/dist-packages (from rasterio->contextily) (1.1.1)\n",
            "Requirement already satisfied: six>=1.5 in /usr/local/lib/python3.7/dist-packages (from python-dateutil>=2.1->matplotlib->contextily) (1.15.0)\n",
            "Installing collected packages: mercantile, affine, snuggs, rasterio, contextily\n",
            "Successfully installed affine-2.3.0 contextily-1.1.0 mercantile-1.2.1 rasterio-1.2.3 snuggs-1.4.7\n"
          ],
          "name": "stdout"
        }
      ]
    },
    {
      "cell_type": "code",
      "metadata": {
        "id": "z_GIA5WjIZJd"
      },
      "source": [
        "#Importamos varias librerías necesarias \n",
        "import pyhdf\n",
        "from pyhdf.HDF import *\n",
        "from pyhdf.VS import *\n",
        "import pprint\n",
        "import numpy as np\n",
        "import matplotlib.pyplot as plt\n",
        "\n",
        "import os, sys, matplotlib\n",
        "import numpy as np\n",
        "# from mpl_toolkits.basemap import Basemap\n",
        "import matplotlib.pyplot as plt\n",
        "import matplotlib.cm as cm\n",
        "from pylab import linspace\n",
        "from scipy import interpolate\n",
        "from matplotlib.colors import LinearSegmentedColormap\n",
        "\n",
        "import pandas as pd\n",
        "import geopandas as gpd\n",
        "import seaborn as sns\n",
        "\n",
        "from pyhdf.SD import SD, SDC  \n",
        "\n",
        "import cartopy.crs as ccrs  # Plot maps"
      ],
      "execution_count": 1,
      "outputs": []
    },
    {
      "cell_type": "code",
      "metadata": {
        "id": "2iwNckgQLDNT"
      },
      "source": [
        "def cmap_discretize(cmap, n):\n",
        "  \n",
        "    #Return a discrete colormap from the continuous colormap cmap.\n",
        "    #cmap: colormap instance, eg. cm.jet.\n",
        "    #n: number of colors.\n",
        "    #Example\n",
        "    #x = resize(arange(100), (5,100))\n",
        "    #djet = cmap_discretize(cm.jet, 5)\n",
        "    #imshow(x, cmap=djet)\n",
        "    \n",
        "  cdict = cmap._segmentdata.copy()\n",
        "  # n colors\n",
        "  colors_i = linspace(0,1.,n)\n",
        "  # n+1 indices\n",
        "  indices = linspace(0,1.,n+1)\n",
        "  for key in ('red','green','blue'):\n",
        " # Find the n colors\n",
        "    D = np.array(cdict[key])\n",
        "    I = interpolate.interp1d(D[:,0], D[:,1])  \n",
        "    colors = I(colors_i)\n",
        " # Place these colors at the correct indices.\n",
        "    A = np.zeros((n+1,3), float)\n",
        "    A[:,0] = indices\n",
        "    A[1:,1] = colors\n",
        "    A[:-1,2] = colors\n",
        " # Create a tuple for the dictionary.\n",
        "    L = []\n",
        "    for l in A:\n",
        "      L.append(tuple(l))\n",
        "    cdict[key] = tuple(L)\n",
        " # Return colormap object.\n",
        "  return LinearSegmentedColormap('colormap',cdict,1024)"
      ],
      "execution_count": 2,
      "outputs": []
    },
    {
      "cell_type": "markdown",
      "metadata": {
        "id": "H2O6Ni5rAkPC"
      },
      "source": [
        "# Importar archivos\n",
        "Ahora importamos los archivos del dataset desde Kaggle.\n",
        "\n",
        "Si estas en Kaggle esta seccion es innecesaria y no corre. Simplemente modificar los paths de los archivos."
      ]
    },
    {
      "cell_type": "code",
      "metadata": {
        "colab": {
          "base_uri": "https://localhost:8080/"
        },
        "id": "lL7yWkMhhCcU",
        "outputId": "4b1ecdcf-0989-4802-fbab-63ab028de7ff"
      },
      "source": [
        "from google.colab import drive\n",
        "drive.mount('/content/gdrive')"
      ],
      "execution_count": 3,
      "outputs": [
        {
          "output_type": "stream",
          "text": [
            "Mounted at /content/gdrive\n"
          ],
          "name": "stdout"
        }
      ]
    },
    {
      "cell_type": "code",
      "metadata": {
        "id": "zw2AKn99-76M"
      },
      "source": [
        "os.environ['KAGGLE_CONFIG_DIR'] = \"/content/gdrive/My Drive/Kaggle\"\n",
        "# /content/gdrive/My Drive/Kaggle is the path where kaggle.json is present in the Google Drive"
      ],
      "execution_count": 4,
      "outputs": []
    },
    {
      "cell_type": "code",
      "metadata": {
        "colab": {
          "base_uri": "https://localhost:8080/",
          "height": 35
        },
        "id": "rAU2yQJs_BmT",
        "outputId": "3b9c3c02-fd7b-42ca-f8a8-06f7180f42d1"
      },
      "source": [
        "%pwd \n",
        "#Chequeamos que el directorio donde estamos trabajando sea content\n",
        "#Si tira error en Colab, reiniciar entorno de ejecucion"
      ],
      "execution_count": 5,
      "outputs": [
        {
          "output_type": "execute_result",
          "data": {
            "application/vnd.google.colaboratory.intrinsic+json": {
              "type": "string"
            },
            "text/plain": [
              "'/content'"
            ]
          },
          "metadata": {
            "tags": []
          },
          "execution_count": 5
        }
      ]
    },
    {
      "cell_type": "code",
      "metadata": {
        "colab": {
          "base_uri": "https://localhost:8080/",
          "height": 52
        },
        "id": "OkacEiYp_Ehv",
        "outputId": "6e0aa032-4882-4003-ce64-99f16603659b"
      },
      "source": [
        "#changing the working directory\n",
        "%cd /content/gdrive/My Drive/Kaggle\n",
        "%pwd"
      ],
      "execution_count": 6,
      "outputs": [
        {
          "output_type": "stream",
          "text": [
            "/content/gdrive/My Drive/Kaggle\n"
          ],
          "name": "stdout"
        },
        {
          "output_type": "execute_result",
          "data": {
            "application/vnd.google.colaboratory.intrinsic+json": {
              "type": "string"
            },
            "text/plain": [
              "'/content/gdrive/My Drive/Kaggle'"
            ]
          },
          "metadata": {
            "tags": []
          },
          "execution_count": 6
        }
      ]
    },
    {
      "cell_type": "markdown",
      "metadata": {
        "id": "5zHl_smuFQpi"
      },
      "source": [
        "Correr las siguientes dos celdas solo si se actualizo el dataset o se esta ejecutando el codigo por primera vez. No pasa nada, pero es innecesario correrlas si no hay archivos nuevos."
      ]
    },
    {
      "cell_type": "code",
      "metadata": {
        "colab": {
          "base_uri": "https://localhost:8080/"
        },
        "id": "s8DpNcAb_HjJ",
        "outputId": "3f0b719a-1821-4d95-fddd-8a442b1a506a"
      },
      "source": [
        "#Copiamos el API command del dataset que queremos bajar, con un ! adelante \n",
        "!kaggle datasets download -d polavr/cloudtypes"
      ],
      "execution_count": 14,
      "outputs": [
        {
          "output_type": "stream",
          "text": [
            "Downloading cloudtypes.zip to /content/gdrive/My Drive/Kaggle\n",
            "100% 938M/942M [00:15<00:00, 44.0MB/s]\n",
            "100% 942M/942M [00:15<00:00, 63.6MB/s]\n"
          ],
          "name": "stdout"
        }
      ]
    },
    {
      "cell_type": "code",
      "metadata": {
        "id": "2mtM9-hv_ORe",
        "colab": {
          "base_uri": "https://localhost:8080/"
        },
        "outputId": "585a67e2-0fe5-45e3-8877-129b5d921dda"
      },
      "source": [
        "#unzipping the zip files and deleting the zip files\n",
        "!unzip \\*.zip  && rm *.zip"
      ],
      "execution_count": 15,
      "outputs": [
        {
          "output_type": "stream",
          "text": [
            "Archive:  cloudtypes.zip\n",
            "replace 2013085084411_36761_CS_2B-GEOPROF_GRANULE_P_R04_E06.h5? [y]es, [n]o, [A]ll, [N]one, [r]ename: A\n",
            "  inflating: 2013085084411_36761_CS_2B-GEOPROF_GRANULE_P_R04_E06.h5  \n",
            "  inflating: 2015001044921_46166_CS_2B-CLDCLASS-LIDAR_GRANULE_P1_R05_E06_F00.hdf  \n",
            "  inflating: 2018139143122_64218_CS_2B-CLDCLASS_GRANULE_P1_R05_E07_F03.hdf  \n",
            "  inflating: 2018283005217_66313_CS_2B-GEOPROF-LIDAR_GRANULE_P2_R05_E08_F03.hdf  \n",
            "  inflating: 2019001041234_67528_CS_2B-CLDCLASS_GRANULE_P1_R05_E08_F03.hdf  \n",
            "  inflating: 2019001055106_67529_CS_2B-CLDCLASS_GRANULE_P1_R05_E08_F03.hdf  \n",
            "  inflating: 2019001072938_67530_CS_2B-CLDCLASS_GRANULE_P1_R05_E08_F03.hdf  \n",
            "  inflating: 2019001154218_67535_CS_2B-CLDCLASS_GRANULE_P1_R05_E08_F03.hdf  \n",
            "  inflating: 2019001172050_67536_CS_2B-CLDCLASS_GRANULE_P1_R05_E08_F03.hdf  \n",
            "  inflating: 2019001185922_67537_CS_2B-CLDCLASS_GRANULE_P1_R05_E08_F03.hdf  \n",
            "  inflating: 2019002045035_67543_CS_2B-CLDCLASS_GRANULE_P1_R05_E08_F03.hdf  \n",
            "  inflating: 2019002062907_67544_CS_2B-CLDCLASS_GRANULE_P1_R05_E08_F03.hdf  \n",
            "  inflating: 2019002162019_67550_CS_2B-CLDCLASS_GRANULE_P1_R05_E08_F03.hdf  \n",
            "  inflating: 2019002175851_67551_CS_2B-CLDCLASS_GRANULE_P1_R05_E08_F03.hdf  \n",
            "  inflating: 2019003052836_67558_CS_2B-CLDCLASS_GRANULE_P1_R05_E08_F03.hdf  \n",
            "  inflating: 2019003070708_67559_CS_2B-CLDCLASS_GRANULE_P1_R05_E08_F03.hdf  \n",
            "  inflating: 2019003151948_67564_CS_2B-CLDCLASS_GRANULE_P1_R05_E08_F03.hdf  \n",
            "  inflating: 2019003165820_67565_CS_2B-CLDCLASS_GRANULE_P1_R05_E08_F03.hdf  \n",
            "  inflating: 2019003183652_67566_CS_2B-CLDCLASS_GRANULE_P1_R05_E08_F03.hdf  \n",
            "  inflating: 2019140015546_69558_CS_2B-CLDCLASS_GRANULE_P1_R05_E08_F03.hdf  \n",
            "  inflating: 2019140033418_69559_CS_2B-CLDCLASS_GRANULE_P1_R05_E08_F03.hdf  \n",
            "  inflating: 2019140051249_69560_CS_2B-CLDCLASS_GRANULE_P1_R05_E08_F03.hdf  \n",
            "  inflating: 2019140065122_69561_CS_2B-CLDCLASS_GRANULE_P1_R05_E08_F03.hdf  \n",
            "  inflating: 2019140114658_69564_CS_2B-CLDCLASS_GRANULE_P1_R05_E08_F03.hdf  \n",
            "  inflating: 2019140132530_69565_CS_2B-CLDCLASS_GRANULE_P1_R05_E08_F03.hdf  \n",
            "  inflating: 2019140150401_69566_CS_2B-CLDCLASS_GRANULE_P1_R05_E08_F03.hdf  \n",
            "  inflating: 2019140164233_69567_CS_2B-CLDCLASS_GRANULE_P1_R05_E08_F03.hdf  \n",
            "  inflating: 2019141041217_69574_CS_2B-CLDCLASS_GRANULE_P1_R05_E08_F03.hdf  \n",
            "  inflating: 2019141055049_69575_CS_2B-CLDCLASS_GRANULE_P1_R05_E08_F03.hdf  \n",
            "  inflating: 2019156035057_69793_CS_2B-CLDCLASS_GRANULE_P1_R05_E08_F03.hdf  \n",
            "  inflating: 2019156052929_69794_CS_2B-CLDCLASS_GRANULE_P1_R05_E08_F03.hdf  \n",
            "  inflating: OR_ABI-L1b-RadF-M6C03_G16_s20191401320369_e20191401330077_c20191401330126.nc  \n",
            "  inflating: OR_ABI-L1b-RadF-M6C07_G16_s20191400530366_e20191400540086_c20191400540122.nc  \n",
            "  inflating: OR_ABI-L1b-RadF-M6C07_G16_s20191401320369_e20191401330088_c20191401330126.nc  \n",
            "  inflating: OR_ABI-L1b-RadF-M6C07_G16_s20191402130369_e20191402140088_c20191402140128.nc  \n",
            "  inflating: OR_ABI-L1b-RadF-M6C13_G16_s20191400530366_e20191400540086_c20191400540143.nc  \n",
            "  inflating: OR_ABI-L1b-RadF-M6C13_G16_s20191401320369_e20191401330088_c20191401330143.nc  \n",
            "  inflating: OR_ABI-L1b-RadF-M6C13_G16_s20191402130369_e20191402140088_c20191402140143.nc  \n",
            "  inflating: OR_ABI-L1b-RadF-M6C14_G16_s20191401320369_e20191401330077_c20191401330142.nc  \n",
            "  inflating: OR_ABI-L1b-RadF-M6C15_G16_s20191400530366_e20191400540080_c20191400540142.nc  \n",
            "  inflating: OR_ABI-L1b-RadF-M6C15_G16_s20191402130369_e20191402140082_c20191402140142.nc  \n",
            "  inflating: OR_ABI-L2-ACHAF-M6_G16_s20203361220137_e20203361229445_c20203361230418.nc  \n",
            "  inflating: OR_ABI-L2-ACTPF-M6_G16_s20203361220137_e20203361229445_c20203361230197.nc  \n",
            "  inflating: OR_ABI-L2-CMIPC-M6C03_G16_s20191391321329_e20191391324102_c20191391324174.nc  \n",
            "  inflating: OR_ABI-L2-CMIPC-M6C07_G16_s20191391321329_e20191391324114_c20191391324164.nc  \n",
            "  inflating: OR_ABI-L2-CMIPC-M6C07_G16_s20191400511332_e20191400514117_c20191400514161.nc  \n",
            "  inflating: OR_ABI-L2-CMIPC-M6C13_G16_s20191391321329_e20191391324114_c20191391324165.nc  \n",
            "  inflating: OR_ABI-L2-CMIPC-M6C13_G16_s20191400511332_e20191400514116_c20191400514167.nc  \n",
            "  inflating: OR_ABI-L2-CMIPC-M6C15_G16_s20191400511332_e20191400514111_c20191400514177.nc  \n",
            "  inflating: OR_ABI-L2-CMIPF-M6C01_G16_s20191401320369_e20191401330077_c20191401330154.nc  \n",
            "  inflating: OR_ABI-L2-CODF-M6_G16_s20203361220137_e20203361229445_c20203361230590.nc  \n",
            "  inflating: OR_ABI-L2-MCMIPF-M6_G16_s20191401320369_e20191401330089_c20191401330166.nc  \n"
          ],
          "name": "stdout"
        }
      ]
    },
    {
      "cell_type": "markdown",
      "metadata": {
        "id": "w_hGbCDTxXDZ"
      },
      "source": [
        "# Abrir archivos CLDCLASS con PyHDF\n",
        "Algunos tutoriales:\n",
        "\n",
        "Ver las [variables](https://stackoverflow.com/questions/31003968/fields-not-found-when-using-pyhdf) con pyhdf\n",
        "\n",
        "Documentacion sobre los módulos VS y SD de [pyhdf](http://pysclint.sourceforge.net/pyhdf/documentation.html)\n",
        "\n",
        "Abrir [hdf's](https://hdfeos.org/zoo/LaRC/CER_ES4_Aqua-FM3_Edition1-CV_024032.200908.hdf.py) con pyhdf versus con netcdf4\n",
        "\n",
        "**Leer y explorar archivos .hdf con pyhdf: **\n",
        "Fuente: esta [pagina](http://fhs.github.io/pyhdf/modules/SD.html). Tambien explican algunas funciones incuilas en la libreria pyhdf."
      ]
    },
    {
      "cell_type": "markdown",
      "metadata": {
        "id": "jQu3FGw5191e"
      },
      "source": [
        "Ahora leemos las variables directamente desde los archivos hdf.\n",
        "Esta parte la saque de [aqui](https://moonbooks.org/Codes/Plot-cldclass-lidar-granule-vertical-profile-using-python-3/)"
      ]
    },
    {
      "cell_type": "markdown",
      "metadata": {
        "id": "czLZ-GGXS1fb"
      },
      "source": [
        "Returns:\n",
        "  List of vdata descriptions. Each vdata is described as\n",
        "  a 9-element tuple, composed of the following:\n",
        "\n",
        "    - vdata name\n",
        "    - vdata class\n",
        "    - vdata reference number\n",
        "    - vdata number of records\n",
        "    - vdata number of fields\n",
        "    - vdata number of attributes\n",
        "    - vdata record size in bytes\n",
        "    - vdata tag number\n",
        "    - vdata interlace mode"
      ]
    },
    {
      "cell_type": "code",
      "metadata": {
        "id": "aq7bW110KfOe"
      },
      "source": [
        "#Path del archivo CLDCLASS\n",
        "path = '/content/gdrive/MyDrive/Kaggle/2019003183652_67566_CS_2B-CLDCLASS_GRANULE_P1_R05_E08_F03.hdf'"
      ],
      "execution_count": 142,
      "outputs": []
    },
    {
      "cell_type": "markdown",
      "metadata": {
        "id": "5OdMU0hv0OQO"
      },
      "source": [
        "Abrimos la sección del archivo tipo HDF donde estan las variables en formato VS (Vdata table, tablas de datos estructuradas dentro del archivo HDF; mas info [acá](http://pysclint.sourceforge.net/pyhdf/pyhdf.VS.html)). Acá estan todas las variables que tienen que ver con ubicación en tiempo y espacio del satélite, en particular latitud, longitud, y tiempo utc."
      ]
    },
    {
      "cell_type": "code",
      "metadata": {
        "colab": {
          "base_uri": "https://localhost:8080/"
        },
        "id": "HMMiJHsdRZYH",
        "outputId": "b636245e-7a43-46ac-fc72-7cf4c6f23533"
      },
      "source": [
        "hdf_file = HDF(path, HC.READ)\n",
        "vs = hdf_file.vstart()\n",
        "vdata = vs.vdatainfo() #es una lista de tuplas. acá estan lat y long y cloud layers\n",
        "vdata"
      ],
      "execution_count": 143,
      "outputs": [
        {
          "output_type": "execute_result",
          "data": {
            "text/plain": [
              "[('Profile_time', '', 7, 36951, 1, 0, 4, 1962, 0),\n",
              " ('UTC_start', '', 8, 1, 1, 0, 4, 1962, 0),\n",
              " ('TAI_start', '', 9, 1, 1, 0, 8, 1962, 0),\n",
              " ('Latitude', '', 10, 36951, 1, 0, 4, 1962, 0),\n",
              " ('Longitude', '', 11, 36951, 1, 0, 4, 1962, 0),\n",
              " ('Range_to_intercept', '', 13, 36951, 1, 0, 4, 1962, 0),\n",
              " ('DEM_elevation', '', 14, 36951, 1, 0, 2, 1962, 0),\n",
              " ('Vertical_binsize', '', 15, 1, 1, 0, 4, 1962, 0),\n",
              " ('Pitch_offset', '', 16, 1, 1, 0, 4, 1962, 0),\n",
              " ('Roll_offset', '', 17, 1, 1, 0, 4, 1962, 0),\n",
              " ('Data_quality', '', 18, 36951, 1, 0, 1, 1962, 0),\n",
              " ('Data_status', '', 19, 36951, 1, 0, 2, 1962, 0),\n",
              " ('Data_targetID', '', 20, 36951, 1, 0, 1, 1962, 0),\n",
              " ('RayStatus_validity', '', 21, 36951, 1, 0, 1, 1962, 0),\n",
              " ('Navigation_land_sea_flag', '', 22, 36951, 1, 0, 1, 1962, 0),\n",
              " ('Precip_flag', '', 23, 36951, 1, 0, 1, 1962, 0),\n",
              " ('SST', '', 24, 36951, 1, 0, 4, 1962, 0),\n",
              " ('Surface_wind', '', 25, 36951, 1, 0, 4, 1962, 0),\n",
              " ('CloudLayer', '', 28, 36951, 1, 0, 2, 1962, 0),\n",
              " ('nray:2B-CLDCLASS', 'DimVal0.1', 177, 1, 1, 0, 4, 1962, 0),\n",
              " ('nbin:2B-CLDCLASS', 'DimVal0.1', 179, 1, 1, 0, 4, 1962, 0),\n",
              " ('Ncloud:2B-CLDCLASS', 'DimVal0.1', 181, 1, 1, 0, 4, 1962, 0)]"
            ]
          },
          "metadata": {
            "tags": []
          },
          "execution_count": 143
        }
      ]
    },
    {
      "cell_type": "code",
      "metadata": {
        "colab": {
          "base_uri": "https://localhost:8080/"
        },
        "id": "llUwjeaAR41i",
        "outputId": "58c4ca58-2af2-465c-c7b4-ca41db80468b"
      },
      "source": [
        "vd = vs.attach('Latitude', write=0)\n",
        "#veamos algunos atributos\n",
        "print(\"vdata: \", vd._name)      # predefined attribute: vdata name\n",
        "print(\"nrecs: \", vd._nrecs)      # predefined attribute:  num records"
      ],
      "execution_count": 144,
      "outputs": [
        {
          "output_type": "stream",
          "text": [
            "vdata:  Latitude\n",
            "nrecs:  36951\n"
          ],
          "name": "stdout"
        }
      ]
    },
    {
      "cell_type": "code",
      "metadata": {
        "id": "Fuzmf5mzUL24",
        "colab": {
          "base_uri": "https://localhost:8080/"
        },
        "outputId": "eefddf8c-1f75-4d51-b009-75a1f1b04305"
      },
      "source": [
        "# Read all records at once, and loop over the sequence.\n",
        "lat = vd[:]\n",
        "vd.detach"
      ],
      "execution_count": 145,
      "outputs": [
        {
          "output_type": "execute_result",
          "data": {
            "text/plain": [
              "<bound method VD.detach of <pyhdf.VS.VD object at 0x7f58404d8a50>>"
            ]
          },
          "metadata": {
            "tags": []
          },
          "execution_count": 145
        }
      ]
    },
    {
      "cell_type": "code",
      "metadata": {
        "colab": {
          "base_uri": "https://localhost:8080/"
        },
        "id": "6Ylu3c1FEtZi",
        "outputId": "97a6bb94-2c11-4c62-d6be-a6f4129e4403"
      },
      "source": [
        "vd = vs.attach('Longitude', write=0)\n",
        "#veamos algunos atributos\n",
        "print(\"vdata: \", vd._name)      # predefined attribute: vdata name\n",
        "print(\"nrecs: \", vd._nrecs)      # predefined attribute:  num records\n",
        "\n",
        "# Read all records at once, and loop over the sequence.\n",
        "lon = vd[:]\n",
        "vd.detach\n",
        "vs.end()                  # terminate the vdata interface"
      ],
      "execution_count": 146,
      "outputs": [
        {
          "output_type": "stream",
          "text": [
            "vdata:  Longitude\n",
            "nrecs:  36951\n"
          ],
          "name": "stdout"
        }
      ]
    },
    {
      "cell_type": "markdown",
      "metadata": {
        "id": "66u5CWAhC6pO"
      },
      "source": [
        "Comprobamos los primeros elementos de los vectores lat y lon, que serian la latitud y longitud donde empiezan esta orbita en particular."
      ]
    },
    {
      "cell_type": "code",
      "metadata": {
        "colab": {
          "base_uri": "https://localhost:8080/"
        },
        "id": "4BIVMSBKORSZ",
        "outputId": "5e0b3919-b987-444b-b35e-4ff21f05f5f0"
      },
      "source": [
        "lat[0], lon[0]"
      ],
      "execution_count": 147,
      "outputs": [
        {
          "output_type": "execute_result",
          "data": {
            "text/plain": [
              "([-0.004875324200838804], [107.62960052490234])"
            ]
          },
          "metadata": {
            "tags": []
          },
          "execution_count": 147
        }
      ]
    },
    {
      "cell_type": "markdown",
      "metadata": {
        "id": "dyEkltQT1fxO"
      },
      "source": [
        "Convertimos lat y lon en un vector como objeto de numpy, simplemente le damos nueva forma"
      ]
    },
    {
      "cell_type": "code",
      "metadata": {
        "colab": {
          "base_uri": "https://localhost:8080/"
        },
        "id": "ob8Kt7lrZl_x",
        "outputId": "1e694027-197b-43f4-bb8d-04c475943379"
      },
      "source": [
        "latitud = np.array(lat).flatten()\n",
        "print(latitud.shape)\n",
        "\n",
        "longitud = np.array(lon).flatten()\n",
        "print(longitud.shape, type(longitud))"
      ],
      "execution_count": 148,
      "outputs": [
        {
          "output_type": "stream",
          "text": [
            "(36951,)\n",
            "(36951,) <class 'numpy.ndarray'>\n"
          ],
          "name": "stdout"
        }
      ]
    },
    {
      "cell_type": "code",
      "metadata": {
        "id": "kcpGS0q2Fo2a",
        "colab": {
          "base_uri": "https://localhost:8080/",
          "height": 289
        },
        "outputId": "484d9e9f-dd80-4b2c-ed39-dcd69172d415"
      },
      "source": [
        "hdf_file.close()  # Cerramos el archivo HDF file. A veces anda y a veces no, \n",
        "#si tira error no importa, seguir con el resto del codigo"
      ],
      "execution_count": 149,
      "outputs": [
        {
          "output_type": "error",
          "ename": "HDF4Error",
          "evalue": "ignored",
          "traceback": [
            "\u001b[0;31m---------------------------------------------------------------------------\u001b[0m",
            "\u001b[0;31mHDF4Error\u001b[0m                                 Traceback (most recent call last)",
            "\u001b[0;32m<ipython-input-149-16a47e4789b5>\u001b[0m in \u001b[0;36m<module>\u001b[0;34m()\u001b[0m\n\u001b[0;32m----> 1\u001b[0;31m \u001b[0mhdf_file\u001b[0m\u001b[0;34m.\u001b[0m\u001b[0mclose\u001b[0m\u001b[0;34m(\u001b[0m\u001b[0;34m)\u001b[0m  \u001b[0;31m# Cerramos el archivo HDF file. A veces anda y a veces no,\u001b[0m\u001b[0;34m\u001b[0m\u001b[0;34m\u001b[0m\u001b[0m\n\u001b[0m\u001b[1;32m      2\u001b[0m \u001b[0;31m#si tira error no importa, seguir con el resto del codigo\u001b[0m\u001b[0;34m\u001b[0m\u001b[0;34m\u001b[0m\u001b[0;34m\u001b[0m\u001b[0m\n",
            "\u001b[0;32m/usr/local/lib/python3.7/dist-packages/pyhdf/HDF.py\u001b[0m in \u001b[0;36mclose\u001b[0;34m(self)\u001b[0m\n\u001b[1;32m    239\u001b[0m                                                 \"\"\"\n\u001b[1;32m    240\u001b[0m \u001b[0;34m\u001b[0m\u001b[0m\n\u001b[0;32m--> 241\u001b[0;31m         \u001b[0m_checkErr\u001b[0m\u001b[0;34m(\u001b[0m\u001b[0;34m'close'\u001b[0m\u001b[0;34m,\u001b[0m \u001b[0m_C\u001b[0m\u001b[0;34m.\u001b[0m\u001b[0mHclose\u001b[0m\u001b[0;34m(\u001b[0m\u001b[0mself\u001b[0m\u001b[0;34m.\u001b[0m\u001b[0m_id\u001b[0m\u001b[0;34m)\u001b[0m\u001b[0;34m,\u001b[0m \u001b[0;34m\"cannot close file\"\u001b[0m\u001b[0;34m)\u001b[0m\u001b[0;34m\u001b[0m\u001b[0;34m\u001b[0m\u001b[0m\n\u001b[0m\u001b[1;32m    242\u001b[0m         \u001b[0mself\u001b[0m\u001b[0;34m.\u001b[0m\u001b[0m_id\u001b[0m \u001b[0;34m=\u001b[0m \u001b[0;32mNone\u001b[0m\u001b[0;34m\u001b[0m\u001b[0;34m\u001b[0m\u001b[0m\n\u001b[1;32m    243\u001b[0m \u001b[0;34m\u001b[0m\u001b[0m\n",
            "\u001b[0;32m/usr/local/lib/python3.7/dist-packages/pyhdf/error.py\u001b[0m in \u001b[0;36m_checkErr\u001b[0;34m(procName, val, msg)\u001b[0m\n\u001b[1;32m     21\u001b[0m         \u001b[0;32melse\u001b[0m\u001b[0;34m:\u001b[0m\u001b[0;34m\u001b[0m\u001b[0;34m\u001b[0m\u001b[0m\n\u001b[1;32m     22\u001b[0m             \u001b[0merr\u001b[0m \u001b[0;34m=\u001b[0m \u001b[0;34m\"%s : %s\"\u001b[0m \u001b[0;34m%\u001b[0m \u001b[0;34m(\u001b[0m\u001b[0mprocName\u001b[0m\u001b[0;34m,\u001b[0m \u001b[0mmsg\u001b[0m\u001b[0;34m)\u001b[0m\u001b[0;34m\u001b[0m\u001b[0;34m\u001b[0m\u001b[0m\n\u001b[0;32m---> 23\u001b[0;31m         \u001b[0;32mraise\u001b[0m \u001b[0mHDF4Error\u001b[0m\u001b[0;34m(\u001b[0m\u001b[0merr\u001b[0m\u001b[0;34m)\u001b[0m\u001b[0;34m\u001b[0m\u001b[0;34m\u001b[0m\u001b[0m\n\u001b[0m",
            "\u001b[0;31mHDF4Error\u001b[0m: close (42): There are still active AIDs"
          ]
        }
      ]
    },
    {
      "cell_type": "markdown",
      "metadata": {
        "id": "4cHimL38Xfbv"
      },
      "source": [
        "Ahora leemos las variables que estan en formato SD (scientific\n",
        "dataset, similar al netCDF; más info [acá](http://pysclint.sourceforge.net/pyhdf/pyhdf.SD.html)) dentro del mismo HDF. \n",
        "\n",
        "En este formato se encuetran la altura 'Height' y las clasificaciones de nubes segun altura o capa."
      ]
    },
    {
      "cell_type": "code",
      "metadata": {
        "colab": {
          "base_uri": "https://localhost:8080/"
        },
        "id": "PP9LT0GaVsZW",
        "outputId": "0c3e35da-03fb-4efc-cb1d-d87c3e2771f9"
      },
      "source": [
        "from pyhdf.SD import SD, SDC    \n",
        "file = SD(path, SDC.READ)  \n",
        "file.datasets()"
      ],
      "execution_count": 150,
      "outputs": [
        {
          "output_type": "execute_result",
          "data": {
            "text/plain": [
              "{'CloudLayerBase': (('nray:2B-CLDCLASS', 'Ncloud:2B-CLDCLASS'),\n",
              "  (36951, 10),\n",
              "  5,\n",
              "  2),\n",
              " 'CloudLayerTop': (('nray:2B-CLDCLASS', 'Ncloud:2B-CLDCLASS'),\n",
              "  (36951, 10),\n",
              "  5,\n",
              "  3),\n",
              " 'CloudLayerType': (('nray:2B-CLDCLASS', 'Ncloud:2B-CLDCLASS'),\n",
              "  (36951, 10),\n",
              "  22,\n",
              "  4),\n",
              " 'Height': (('nray:2B-CLDCLASS', 'nbin:2B-CLDCLASS'), (36951, 125), 22, 0),\n",
              " 'cloud_scenario': (('nray:2B-CLDCLASS', 'nbin:2B-CLDCLASS'),\n",
              "  (36951, 125),\n",
              "  22,\n",
              "  1)}"
            ]
          },
          "metadata": {
            "tags": []
          },
          "execution_count": 150
        }
      ]
    },
    {
      "cell_type": "markdown",
      "metadata": {
        "id": "sOQa-WJT1w_Q"
      },
      "source": [
        "Exploramos algunas variables"
      ]
    },
    {
      "cell_type": "code",
      "metadata": {
        "colab": {
          "base_uri": "https://localhost:8080/"
        },
        "id": "vi1FnOEUCezg",
        "outputId": "5e20e611-46b7-4dde-97fb-c23cd6437eb6"
      },
      "source": [
        "print('---------- CloudScenario ----------')\n",
        "\n",
        "sds_obj = file.select('cloud_scenario') # select sds\n",
        "cloud_scenario = sds_obj.get()\n",
        "sds_info = sds_obj.info()\n",
        "\n",
        "print(cloud_scenario.shape)\n",
        "print( sds_info )\n",
        "print( sds_info[0], sds_info[1] )\n",
        "print( 'sds attributes' )\n",
        "pprint.pprint( sds_obj.attributes() )\n",
        "\n",
        "for i in range(10):\n",
        "\tprint([cloud_scenario[i,j] for j in range(10)])"
      ],
      "execution_count": 151,
      "outputs": [
        {
          "output_type": "stream",
          "text": [
            "---------- CloudScenario ----------\n",
            "(36951, 125)\n",
            "('cloud_scenario', 2, [36951, 125], 22, 0)\n",
            "cloud_scenario 2\n",
            "sds attributes\n",
            "{}\n",
            "[2113, 2113, 2113, 2113, 2113, 2113, 2113, 2113, 2113, 2113]\n",
            "[2113, 2113, 2113, 2113, 2113, 2113, 2113, 2113, 2113, 2113]\n",
            "[2113, 2113, 2113, 2113, 2113, 2113, 2113, 2113, 2113, 2113]\n",
            "[2113, 2113, 2113, 2113, 2113, 2113, 2113, 2113, 2113, 2113]\n",
            "[2113, 2113, 2113, 2113, 2113, 2113, 2113, 2113, 2113, 2113]\n",
            "[2113, 2113, 2113, 2113, 2113, 2113, 2113, 2113, 2113, 2113]\n",
            "[2113, 2113, 2113, 2113, 2113, 2113, 2113, 2113, 2113, 2113]\n",
            "[2113, 2113, 2113, 2113, 2113, 2113, 2113, 2113, 2113, 2113]\n",
            "[2113, 2113, 2113, 2113, 2113, 2113, 2113, 2113, 2113, 2113]\n",
            "[2113, 2113, 2113, 2113, 2113, 2113, 2113, 2113, 2113, 2113]\n"
          ],
          "name": "stdout"
        }
      ]
    },
    {
      "cell_type": "code",
      "metadata": {
        "id": "Htj6HbC31-ss"
      },
      "source": [
        "#cloud_scenario[12580:13580,-1]"
      ],
      "execution_count": 152,
      "outputs": []
    },
    {
      "cell_type": "code",
      "metadata": {
        "colab": {
          "base_uri": "https://localhost:8080/"
        },
        "id": "QkTipBQ-4d38",
        "outputId": "175f9004-b53e-492f-e60f-d1a78b24a09d"
      },
      "source": [
        "print('---------- CloudLayerType ----------')\n",
        "\n",
        "sds_obj = file.select('CloudLayerType') # select sds\n",
        "\n",
        "CloudLayerType = sds_obj.get() \n",
        "\n",
        "sds_info = sds_obj.info()\n",
        "\n",
        "print(CloudLayerType.shape)\n",
        "print( sds_info )\n",
        "print( sds_info[0], sds_info[1] )\n",
        "print( 'sds attributes' )\n",
        "pprint.pprint( sds_obj.attributes() )\n",
        "\n",
        "for i in range(10):\n",
        "\tprint([CloudLayerType[i,j] for j in range(10)])\n"
      ],
      "execution_count": 153,
      "outputs": [
        {
          "output_type": "stream",
          "text": [
            "---------- CloudLayerType ----------\n",
            "(36951, 10)\n",
            "('CloudLayerType', 2, [36951, 10], 22, 0)\n",
            "CloudLayerType 2\n",
            "sds attributes\n",
            "{}\n",
            "[0, 0, 0, 0, 0, 0, 0, 0, 0, 0]\n",
            "[0, 0, 0, 0, 0, 0, 0, 0, 0, 0]\n",
            "[0, 0, 0, 0, 0, 0, 0, 0, 0, 0]\n",
            "[0, 0, 0, 0, 0, 0, 0, 0, 0, 0]\n",
            "[0, 0, 0, 0, 0, 0, 0, 0, 0, 0]\n",
            "[0, 0, 0, 0, 0, 0, 0, 0, 0, 0]\n",
            "[0, 0, 0, 0, 0, 0, 0, 0, 0, 0]\n",
            "[0, 0, 0, 0, 0, 0, 0, 0, 0, 0]\n",
            "[0, 0, 0, 0, 0, 0, 0, 0, 0, 0]\n",
            "[0, 0, 0, 0, 0, 0, 0, 0, 0, 0]\n"
          ],
          "name": "stdout"
        }
      ]
    },
    {
      "cell_type": "markdown",
      "metadata": {
        "id": "iEBIKgck2d4G"
      },
      "source": [
        "Extraemos las variables que nos interesan y las guardamos en arrays. En este caso solo quiero hacer los graficos de una capa en coordenadas lat, lon y el de las nubes segun cada capa vs altura, por lo que voy a extraer las variables para hacer esos gráficos:"
      ]
    },
    {
      "cell_type": "code",
      "metadata": {
        "id": "gsBlMcR6Yn72"
      },
      "source": [
        "cld_layertype= file.select('CloudLayerType')[:]\n",
        "layer_base = file.select('CloudLayerBase')[:]\n",
        "layer_top = file.select('CloudLayerTop')[:]\n",
        "height = file.select('Height')[:]"
      ],
      "execution_count": 154,
      "outputs": []
    },
    {
      "cell_type": "markdown",
      "metadata": {
        "id": "Ti0J4yIK1Kia"
      },
      "source": [
        "Cloud types es una matriz de 36mil y pico x 125, que da el tipo de nube segun la altura. Observar que la forma coincide con la de height por lo que se puede plottear altura vs latitud o longitud con tipos de nubes.\n",
        "\n",
        "Cloud layer type da el tipo de nube segun la capa, dividiendo toda la altura en 10 capas. Tambien se podria graficar tipo de nube vs capa por latura usando las variables cloud layer base y cloud layer top.\n",
        "\n",
        "Exploremos un poco la matriz height."
      ]
    },
    {
      "cell_type": "code",
      "metadata": {
        "id": "bKxBLBakW_jO"
      },
      "source": [
        "matrix = np.argwhere(height[:,:] != -99)"
      ],
      "execution_count": 155,
      "outputs": []
    },
    {
      "cell_type": "code",
      "metadata": {
        "colab": {
          "base_uri": "https://localhost:8080/"
        },
        "id": "0LrCHWFEZ8zn",
        "outputId": "9058fa11-be13-4ac1-f453-ec0021054078"
      },
      "source": [
        "matrix.shape"
      ],
      "execution_count": 156,
      "outputs": [
        {
          "output_type": "execute_result",
          "data": {
            "text/plain": [
              "(4618794, 2)"
            ]
          },
          "metadata": {
            "tags": []
          },
          "execution_count": 156
        }
      ]
    },
    {
      "cell_type": "code",
      "metadata": {
        "colab": {
          "base_uri": "https://localhost:8080/"
        },
        "id": "IAnK6X4fZQjx",
        "outputId": "64cd4ba4-682e-4c9a-88d7-826dc56ff7c2"
      },
      "source": [
        "height[matrix[0]]"
      ],
      "execution_count": 157,
      "outputs": [
        {
          "output_type": "execute_result",
          "data": {
            "text/plain": [
              "array([[-9999, -9999, -9999, -9999, -9999, -9999, -9999, -9999, -9999,\n",
              "        -9999, -9999, -9999, -9999, -9999, -9999, -9999, -9999, -9999,\n",
              "        -9999, -9999, -9999, -9999, -9999, -9999, -9999, -9999, -9999,\n",
              "        -9999, -9999, -9999, -9999, -9999, -9999, -9999, -9999, -9999,\n",
              "        -9999, -9999, -9999, -9999, -9999, -9999, -9999, -9999, -9999,\n",
              "        -9999, -9999, -9999, -9999, -9999, -9999, -9999, -9999, -9999,\n",
              "        -9999, -9999, -9999, -9999, -9999, -9999, -9999, -9999, -9999,\n",
              "        -9999, -9999, -9999, -9999, -9999, -9999, -9999, -9999, -9999,\n",
              "        -9999, -9999, -9999, -9999, -9999, -9999, -9999, -9999, -9999,\n",
              "        -9999, -9999, -9999, -9999, -9999, -9999, -9999, -9999, -9999,\n",
              "        -9999, -9999, -9999, -9999, -9999, -9999, -9999, -9999, -9999,\n",
              "        -9999, -9999, -9999, -9999, -9999, -9999, -9999, -9999, -9999,\n",
              "        -9999, -9999, -9999, -9999, -9999, -9999, -9999, -9999, -9999,\n",
              "        -9999, -9999, -9999, -9999, -9999, -9999, -9999, -9999],\n",
              "       [-9999, -9999, -9999, -9999, -9999, -9999, -9999, -9999, -9999,\n",
              "        -9999, -9999, -9999, -9999, -9999, -9999, -9999, -9999, -9999,\n",
              "        -9999, -9999, -9999, -9999, -9999, -9999, -9999, -9999, -9999,\n",
              "        -9999, -9999, -9999, -9999, -9999, -9999, -9999, -9999, -9999,\n",
              "        -9999, -9999, -9999, -9999, -9999, -9999, -9999, -9999, -9999,\n",
              "        -9999, -9999, -9999, -9999, -9999, -9999, -9999, -9999, -9999,\n",
              "        -9999, -9999, -9999, -9999, -9999, -9999, -9999, -9999, -9999,\n",
              "        -9999, -9999, -9999, -9999, -9999, -9999, -9999, -9999, -9999,\n",
              "        -9999, -9999, -9999, -9999, -9999, -9999, -9999, -9999, -9999,\n",
              "        -9999, -9999, -9999, -9999, -9999, -9999, -9999, -9999, -9999,\n",
              "        -9999, -9999, -9999, -9999, -9999, -9999, -9999, -9999, -9999,\n",
              "        -9999, -9999, -9999, -9999, -9999, -9999, -9999, -9999, -9999,\n",
              "        -9999, -9999, -9999, -9999, -9999, -9999, -9999, -9999, -9999,\n",
              "        -9999, -9999, -9999, -9999, -9999, -9999, -9999, -9999]],\n",
              "      dtype=int16)"
            ]
          },
          "metadata": {
            "tags": []
          },
          "execution_count": 157
        }
      ]
    },
    {
      "cell_type": "code",
      "metadata": {
        "id": "_syiYBIma2Cz"
      },
      "source": [
        "#arr = np.array([height[matrix[0]], cloud_scenario[matrix[0]]])\n",
        "#arr[0:5,:].T"
      ],
      "execution_count": 158,
      "outputs": []
    },
    {
      "cell_type": "markdown",
      "metadata": {
        "id": "qEM46YhsQ14G"
      },
      "source": [
        "Exploramos un poco las variables layer base y layer top"
      ]
    },
    {
      "cell_type": "code",
      "metadata": {
        "colab": {
          "base_uri": "https://localhost:8080/"
        },
        "id": "u1xV_gZsQxF0",
        "outputId": "22b66858-b669-4609-d7ec-3a74170f51f3"
      },
      "source": [
        "print(layer_base[3876,:])\n",
        "print(layer_top[3876,:])\n",
        "print(cld_layertype[3876,:])\n",
        "print('lat', latitud[3876])\n",
        "print('lon', longitud[3876])"
      ],
      "execution_count": 159,
      "outputs": [
        {
          "output_type": "stream",
          "text": [
            "[-99. -99. -99. -99. -99. -99. -99. -99. -99. -99.]\n",
            "[-99. -99. -99. -99. -99. -99. -99. -99. -99. -99.]\n",
            "[0 0 0 0 0 0 0 0 0 0]\n",
            "lat -37.472877502441406\n",
            "lon 98.76490783691406\n"
          ],
          "name": "stdout"
        }
      ]
    },
    {
      "cell_type": "code",
      "metadata": {
        "colab": {
          "base_uri": "https://localhost:8080/",
          "height": 52
        },
        "id": "MLvU9mAoM5qP",
        "outputId": "3bd651e7-fdf3-44f8-c04c-d2dfea984a99"
      },
      "source": [
        "'''Shape layer type={}, shape height= {}, shape layer base={}, shape layer top={}, shape lat ={}, \n",
        "shape lon={}'''.format(cld_layertype.shape,\n",
        "                       height.shape, layer_base.shape, layer_top.shape, np.shape(latitud), np.shape(longitud))\n",
        "#Con esto ya tenemos todo para plotear, por ahora"
      ],
      "execution_count": 160,
      "outputs": [
        {
          "output_type": "execute_result",
          "data": {
            "application/vnd.google.colaboratory.intrinsic+json": {
              "type": "string"
            },
            "text/plain": [
              "'Shape layer type=(36951, 10), shape height= (36951, 125), shape layer base=(36951, 10), shape layer top=(36951, 10), shape lat =(36951,), \\nshape lon=(36951,)'"
            ]
          },
          "metadata": {
            "tags": []
          },
          "execution_count": 160
        }
      ]
    },
    {
      "cell_type": "markdown",
      "metadata": {
        "id": "6Vrqcqn54iMl"
      },
      "source": [
        "Elaboramos un diccionario con los códigos del archivo, segun cada numero se asigna un tipo de nube (ver manual cldclass, ahi está descripto)"
      ]
    },
    {
      "cell_type": "code",
      "metadata": {
        "id": "cKJ4UpmD3CrX",
        "colab": {
          "base_uri": "https://localhost:8080/"
        },
        "outputId": "43ff8e05-af43-4ec4-eb1d-9286ec7e0a29"
      },
      "source": [
        "dic_LayerType = {0:'no',\n",
        "                 1:'Ci',\n",
        "                 2:'As',\n",
        "                 3:'Ac',\n",
        "                 4:'St',\n",
        "                 5:'Sc',\n",
        "                 6:'Cu',\n",
        "                 7:'Ns',\n",
        "                 8:'DC'} \n",
        "type(dic_LayerType)"
      ],
      "execution_count": 161,
      "outputs": [
        {
          "output_type": "execute_result",
          "data": {
            "text/plain": [
              "dict"
            ]
          },
          "metadata": {
            "tags": []
          },
          "execution_count": 161
        }
      ]
    },
    {
      "cell_type": "markdown",
      "metadata": {
        "id": "n5vpMhsJntwB"
      },
      "source": [
        "# Ploteos"
      ]
    },
    {
      "cell_type": "code",
      "metadata": {
        "colab": {
          "base_uri": "https://localhost:8080/",
          "height": 248
        },
        "id": "drk0loYwjjzS",
        "outputId": "e292cd3f-ef1e-46ff-cd7f-62cd6e42b80e"
      },
      "source": [
        "import matplotlib as mpl\n",
        "fig, ax = plt.figure()\n",
        "plt.imshow(cld_layertype[12346:12446, :].T, vmin=0, vmax=10, origin='lower', cmap='rainbow')\n",
        "norm = mpl.colors.Normalize(vmin=0, vmax=10)\n",
        "fig.colorbar(mpl.cm.ScalarMappable(norm=norm, cmap='rainbow'),\n",
        "             cax=ax, orientation='horizontal', )"
      ],
      "execution_count": 27,
      "outputs": [
        {
          "output_type": "error",
          "ename": "TypeError",
          "evalue": "ignored",
          "traceback": [
            "\u001b[0;31m---------------------------------------------------------------------------\u001b[0m",
            "\u001b[0;31mTypeError\u001b[0m                                 Traceback (most recent call last)",
            "\u001b[0;32m<ipython-input-27-c1f43cde102c>\u001b[0m in \u001b[0;36m<module>\u001b[0;34m()\u001b[0m\n\u001b[1;32m      1\u001b[0m \u001b[0;32mimport\u001b[0m \u001b[0mmatplotlib\u001b[0m \u001b[0;32mas\u001b[0m \u001b[0mmpl\u001b[0m\u001b[0;34m\u001b[0m\u001b[0;34m\u001b[0m\u001b[0m\n\u001b[0;32m----> 2\u001b[0;31m \u001b[0mfig\u001b[0m\u001b[0;34m,\u001b[0m \u001b[0max\u001b[0m \u001b[0;34m=\u001b[0m \u001b[0mplt\u001b[0m\u001b[0;34m.\u001b[0m\u001b[0mfigure\u001b[0m\u001b[0;34m(\u001b[0m\u001b[0;34m)\u001b[0m\u001b[0;34m\u001b[0m\u001b[0;34m\u001b[0m\u001b[0m\n\u001b[0m\u001b[1;32m      3\u001b[0m \u001b[0mplt\u001b[0m\u001b[0;34m.\u001b[0m\u001b[0mimshow\u001b[0m\u001b[0;34m(\u001b[0m\u001b[0mcld_layertype\u001b[0m\u001b[0;34m[\u001b[0m\u001b[0;36m12346\u001b[0m\u001b[0;34m:\u001b[0m\u001b[0;36m12446\u001b[0m\u001b[0;34m,\u001b[0m \u001b[0;34m:\u001b[0m\u001b[0;34m]\u001b[0m\u001b[0;34m.\u001b[0m\u001b[0mT\u001b[0m\u001b[0;34m,\u001b[0m \u001b[0mvmin\u001b[0m\u001b[0;34m=\u001b[0m\u001b[0;36m0\u001b[0m\u001b[0;34m,\u001b[0m \u001b[0mvmax\u001b[0m\u001b[0;34m=\u001b[0m\u001b[0;36m10\u001b[0m\u001b[0;34m,\u001b[0m \u001b[0morigin\u001b[0m\u001b[0;34m=\u001b[0m\u001b[0;34m'lower'\u001b[0m\u001b[0;34m,\u001b[0m \u001b[0mcmap\u001b[0m\u001b[0;34m=\u001b[0m\u001b[0;34m'rainbow'\u001b[0m\u001b[0;34m)\u001b[0m\u001b[0;34m\u001b[0m\u001b[0;34m\u001b[0m\u001b[0m\n\u001b[1;32m      4\u001b[0m \u001b[0mnorm\u001b[0m \u001b[0;34m=\u001b[0m \u001b[0mmpl\u001b[0m\u001b[0;34m.\u001b[0m\u001b[0mcolors\u001b[0m\u001b[0;34m.\u001b[0m\u001b[0mNormalize\u001b[0m\u001b[0;34m(\u001b[0m\u001b[0mvmin\u001b[0m\u001b[0;34m=\u001b[0m\u001b[0;36m0\u001b[0m\u001b[0;34m,\u001b[0m \u001b[0mvmax\u001b[0m\u001b[0;34m=\u001b[0m\u001b[0;36m10\u001b[0m\u001b[0;34m)\u001b[0m\u001b[0;34m\u001b[0m\u001b[0;34m\u001b[0m\u001b[0m\n\u001b[1;32m      5\u001b[0m fig.colorbar(mpl.cm.ScalarMappable(norm=norm, cmap='rainbow'),\n",
            "\u001b[0;31mTypeError\u001b[0m: cannot unpack non-iterable Figure object"
          ]
        },
        {
          "output_type": "display_data",
          "data": {
            "text/plain": [
              "<Figure size 432x288 with 0 Axes>"
            ]
          },
          "metadata": {
            "tags": []
          }
        }
      ]
    },
    {
      "cell_type": "markdown",
      "metadata": {
        "id": "YFb2Adm2J8DF"
      },
      "source": [
        "## Una capa proyectada segun GOES\n",
        "Vamos a utilizar Geopandas para proyectar una capa de las de cloudsat según la proyección del satelite GOES16 y dibujarla sobre ese mapa."
      ]
    },
    {
      "cell_type": "markdown",
      "metadata": {
        "id": "SqZihrx22JkZ"
      },
      "source": [
        "Creamos un dataframe de pandas conteniendo la latitud, longitud y valores del tipo de nube en cada una de las 10 capas."
      ]
    },
    {
      "cell_type": "code",
      "metadata": {
        "id": "flyYuosSJ1w1"
      },
      "source": [
        "tipo_capa = pd.DataFrame({'Longitude': longitud, 'Latitude': latitud, \n",
        "                          'capa0':cld_layertype[:,0], 'capa1':cld_layertype[:,1],\n",
        "                          'capa2':cld_layertype[:,2], 'capa3':cld_layertype[:,3],\n",
        "                          'capa4':cld_layertype[:,4], 'capa5':cld_layertype[:,5],\n",
        "                          'capa6':cld_layertype[:,6], 'capa7':cld_layertype[:,7],\n",
        "                          'capa8':cld_layertype[:,8], 'capa9':cld_layertype[:,9]})"
      ],
      "execution_count": 162,
      "outputs": []
    },
    {
      "cell_type": "markdown",
      "metadata": {
        "id": "q0aHmSHihXEF"
      },
      "source": [
        "Exploremos los elementos del dataframe"
      ]
    },
    {
      "cell_type": "code",
      "metadata": {
        "colab": {
          "base_uri": "https://localhost:8080/",
          "height": 204
        },
        "id": "18SCa-FvOYHv",
        "outputId": "0294a0a8-2fb2-4a8d-b2e6-61e919e6b911"
      },
      "source": [
        "tipo_capa.head() #muestra los primeros valores de la tabla para lat, log y cada una de las capas"
      ],
      "execution_count": 163,
      "outputs": [
        {
          "output_type": "execute_result",
          "data": {
            "text/html": [
              "<div>\n",
              "<style scoped>\n",
              "    .dataframe tbody tr th:only-of-type {\n",
              "        vertical-align: middle;\n",
              "    }\n",
              "\n",
              "    .dataframe tbody tr th {\n",
              "        vertical-align: top;\n",
              "    }\n",
              "\n",
              "    .dataframe thead th {\n",
              "        text-align: right;\n",
              "    }\n",
              "</style>\n",
              "<table border=\"1\" class=\"dataframe\">\n",
              "  <thead>\n",
              "    <tr style=\"text-align: right;\">\n",
              "      <th></th>\n",
              "      <th>Longitude</th>\n",
              "      <th>Latitude</th>\n",
              "      <th>capa0</th>\n",
              "      <th>capa1</th>\n",
              "      <th>capa2</th>\n",
              "      <th>capa3</th>\n",
              "      <th>capa4</th>\n",
              "      <th>capa5</th>\n",
              "      <th>capa6</th>\n",
              "      <th>capa7</th>\n",
              "      <th>capa8</th>\n",
              "      <th>capa9</th>\n",
              "    </tr>\n",
              "  </thead>\n",
              "  <tbody>\n",
              "    <tr>\n",
              "      <th>0</th>\n",
              "      <td>107.629601</td>\n",
              "      <td>-0.004875</td>\n",
              "      <td>0</td>\n",
              "      <td>0</td>\n",
              "      <td>0</td>\n",
              "      <td>0</td>\n",
              "      <td>0</td>\n",
              "      <td>0</td>\n",
              "      <td>0</td>\n",
              "      <td>0</td>\n",
              "      <td>0</td>\n",
              "      <td>0</td>\n",
              "    </tr>\n",
              "    <tr>\n",
              "      <th>1</th>\n",
              "      <td>107.627548</td>\n",
              "      <td>-0.014581</td>\n",
              "      <td>0</td>\n",
              "      <td>0</td>\n",
              "      <td>0</td>\n",
              "      <td>0</td>\n",
              "      <td>0</td>\n",
              "      <td>0</td>\n",
              "      <td>0</td>\n",
              "      <td>0</td>\n",
              "      <td>0</td>\n",
              "      <td>0</td>\n",
              "    </tr>\n",
              "    <tr>\n",
              "      <th>2</th>\n",
              "      <td>107.625504</td>\n",
              "      <td>-0.024287</td>\n",
              "      <td>0</td>\n",
              "      <td>0</td>\n",
              "      <td>0</td>\n",
              "      <td>0</td>\n",
              "      <td>0</td>\n",
              "      <td>0</td>\n",
              "      <td>0</td>\n",
              "      <td>0</td>\n",
              "      <td>0</td>\n",
              "      <td>0</td>\n",
              "    </tr>\n",
              "    <tr>\n",
              "      <th>3</th>\n",
              "      <td>107.623451</td>\n",
              "      <td>-0.033994</td>\n",
              "      <td>0</td>\n",
              "      <td>0</td>\n",
              "      <td>0</td>\n",
              "      <td>0</td>\n",
              "      <td>0</td>\n",
              "      <td>0</td>\n",
              "      <td>0</td>\n",
              "      <td>0</td>\n",
              "      <td>0</td>\n",
              "      <td>0</td>\n",
              "    </tr>\n",
              "    <tr>\n",
              "      <th>4</th>\n",
              "      <td>107.621399</td>\n",
              "      <td>-0.043700</td>\n",
              "      <td>0</td>\n",
              "      <td>0</td>\n",
              "      <td>0</td>\n",
              "      <td>0</td>\n",
              "      <td>0</td>\n",
              "      <td>0</td>\n",
              "      <td>0</td>\n",
              "      <td>0</td>\n",
              "      <td>0</td>\n",
              "      <td>0</td>\n",
              "    </tr>\n",
              "  </tbody>\n",
              "</table>\n",
              "</div>"
            ],
            "text/plain": [
              "    Longitude  Latitude  capa0  capa1  capa2  ...  capa5  capa6  capa7  capa8  capa9\n",
              "0  107.629601 -0.004875      0      0      0  ...      0      0      0      0      0\n",
              "1  107.627548 -0.014581      0      0      0  ...      0      0      0      0      0\n",
              "2  107.625504 -0.024287      0      0      0  ...      0      0      0      0      0\n",
              "3  107.623451 -0.033994      0      0      0  ...      0      0      0      0      0\n",
              "4  107.621399 -0.043700      0      0      0  ...      0      0      0      0      0\n",
              "\n",
              "[5 rows x 12 columns]"
            ]
          },
          "metadata": {
            "tags": []
          },
          "execution_count": 163
        }
      ]
    },
    {
      "cell_type": "code",
      "metadata": {
        "colab": {
          "base_uri": "https://localhost:8080/"
        },
        "id": "8GuxxK25ZEpz",
        "outputId": "d1606462-46d1-44af-f5da-f7e373b41628"
      },
      "source": [
        "tipo_capa.iloc[12876,:]"
      ],
      "execution_count": 164,
      "outputs": [
        {
          "output_type": "execute_result",
          "data": {
            "text/plain": [
              "Longitude   -69.587791\n",
              "Latitude    -54.083961\n",
              "capa0         2.000000\n",
              "capa1         0.000000\n",
              "capa2         0.000000\n",
              "capa3         0.000000\n",
              "capa4         0.000000\n",
              "capa5         0.000000\n",
              "capa6         0.000000\n",
              "capa7         0.000000\n",
              "capa8         0.000000\n",
              "capa9         0.000000\n",
              "Name: 12876, dtype: float64"
            ]
          },
          "metadata": {
            "tags": []
          },
          "execution_count": 164
        }
      ]
    },
    {
      "cell_type": "markdown",
      "metadata": {
        "id": "IWeJUDt62ZtI"
      },
      "source": [
        "Comprobamos que exista algun valor distinto de 0 para los tipos de nubes de la capa 0 por ejemplo."
      ]
    },
    {
      "cell_type": "code",
      "metadata": {
        "colab": {
          "base_uri": "https://localhost:8080/",
          "height": 419
        },
        "id": "sMVsUgQQ8Anw",
        "outputId": "2c309e23-19e4-4901-aacb-effafb37f2e8"
      },
      "source": [
        "tipo_capa.loc[tipo_capa.capa0.isin([5])]"
      ],
      "execution_count": 165,
      "outputs": [
        {
          "output_type": "execute_result",
          "data": {
            "text/html": [
              "<div>\n",
              "<style scoped>\n",
              "    .dataframe tbody tr th:only-of-type {\n",
              "        vertical-align: middle;\n",
              "    }\n",
              "\n",
              "    .dataframe tbody tr th {\n",
              "        vertical-align: top;\n",
              "    }\n",
              "\n",
              "    .dataframe thead th {\n",
              "        text-align: right;\n",
              "    }\n",
              "</style>\n",
              "<table border=\"1\" class=\"dataframe\">\n",
              "  <thead>\n",
              "    <tr style=\"text-align: right;\">\n",
              "      <th></th>\n",
              "      <th>Longitude</th>\n",
              "      <th>Latitude</th>\n",
              "      <th>capa0</th>\n",
              "      <th>capa1</th>\n",
              "      <th>capa2</th>\n",
              "      <th>capa3</th>\n",
              "      <th>capa4</th>\n",
              "      <th>capa5</th>\n",
              "      <th>capa6</th>\n",
              "      <th>capa7</th>\n",
              "      <th>capa8</th>\n",
              "      <th>capa9</th>\n",
              "    </tr>\n",
              "  </thead>\n",
              "  <tbody>\n",
              "    <tr>\n",
              "      <th>7387</th>\n",
              "      <td>79.196373</td>\n",
              "      <td>-70.312141</td>\n",
              "      <td>5</td>\n",
              "      <td>0</td>\n",
              "      <td>0</td>\n",
              "      <td>0</td>\n",
              "      <td>0</td>\n",
              "      <td>0</td>\n",
              "      <td>0</td>\n",
              "      <td>0</td>\n",
              "      <td>0</td>\n",
              "      <td>0</td>\n",
              "    </tr>\n",
              "    <tr>\n",
              "      <th>7388</th>\n",
              "      <td>79.183662</td>\n",
              "      <td>-70.320923</td>\n",
              "      <td>5</td>\n",
              "      <td>0</td>\n",
              "      <td>0</td>\n",
              "      <td>0</td>\n",
              "      <td>0</td>\n",
              "      <td>0</td>\n",
              "      <td>0</td>\n",
              "      <td>0</td>\n",
              "      <td>0</td>\n",
              "      <td>0</td>\n",
              "    </tr>\n",
              "    <tr>\n",
              "      <th>7389</th>\n",
              "      <td>79.170944</td>\n",
              "      <td>-70.329712</td>\n",
              "      <td>5</td>\n",
              "      <td>0</td>\n",
              "      <td>0</td>\n",
              "      <td>0</td>\n",
              "      <td>0</td>\n",
              "      <td>0</td>\n",
              "      <td>0</td>\n",
              "      <td>0</td>\n",
              "      <td>0</td>\n",
              "      <td>0</td>\n",
              "    </tr>\n",
              "    <tr>\n",
              "      <th>7390</th>\n",
              "      <td>79.158234</td>\n",
              "      <td>-70.338493</td>\n",
              "      <td>5</td>\n",
              "      <td>0</td>\n",
              "      <td>0</td>\n",
              "      <td>0</td>\n",
              "      <td>0</td>\n",
              "      <td>0</td>\n",
              "      <td>0</td>\n",
              "      <td>0</td>\n",
              "      <td>0</td>\n",
              "      <td>0</td>\n",
              "    </tr>\n",
              "    <tr>\n",
              "      <th>7391</th>\n",
              "      <td>79.145477</td>\n",
              "      <td>-70.347275</td>\n",
              "      <td>5</td>\n",
              "      <td>0</td>\n",
              "      <td>0</td>\n",
              "      <td>0</td>\n",
              "      <td>0</td>\n",
              "      <td>0</td>\n",
              "      <td>0</td>\n",
              "      <td>0</td>\n",
              "      <td>0</td>\n",
              "      <td>0</td>\n",
              "    </tr>\n",
              "    <tr>\n",
              "      <th>...</th>\n",
              "      <td>...</td>\n",
              "      <td>...</td>\n",
              "      <td>...</td>\n",
              "      <td>...</td>\n",
              "      <td>...</td>\n",
              "      <td>...</td>\n",
              "      <td>...</td>\n",
              "      <td>...</td>\n",
              "      <td>...</td>\n",
              "      <td>...</td>\n",
              "      <td>...</td>\n",
              "      <td>...</td>\n",
              "    </tr>\n",
              "    <tr>\n",
              "      <th>27917</th>\n",
              "      <td>166.079544</td>\n",
              "      <td>81.668587</td>\n",
              "      <td>5</td>\n",
              "      <td>3</td>\n",
              "      <td>0</td>\n",
              "      <td>0</td>\n",
              "      <td>0</td>\n",
              "      <td>0</td>\n",
              "      <td>0</td>\n",
              "      <td>0</td>\n",
              "      <td>0</td>\n",
              "      <td>0</td>\n",
              "    </tr>\n",
              "    <tr>\n",
              "      <th>27918</th>\n",
              "      <td>166.013626</td>\n",
              "      <td>81.666420</td>\n",
              "      <td>5</td>\n",
              "      <td>5</td>\n",
              "      <td>0</td>\n",
              "      <td>0</td>\n",
              "      <td>0</td>\n",
              "      <td>0</td>\n",
              "      <td>0</td>\n",
              "      <td>0</td>\n",
              "      <td>0</td>\n",
              "      <td>0</td>\n",
              "    </tr>\n",
              "    <tr>\n",
              "      <th>28239</th>\n",
              "      <td>147.121567</td>\n",
              "      <td>80.478836</td>\n",
              "      <td>5</td>\n",
              "      <td>0</td>\n",
              "      <td>0</td>\n",
              "      <td>0</td>\n",
              "      <td>0</td>\n",
              "      <td>0</td>\n",
              "      <td>0</td>\n",
              "      <td>0</td>\n",
              "      <td>0</td>\n",
              "      <td>0</td>\n",
              "    </tr>\n",
              "    <tr>\n",
              "      <th>28240</th>\n",
              "      <td>147.070679</td>\n",
              "      <td>80.473801</td>\n",
              "      <td>5</td>\n",
              "      <td>0</td>\n",
              "      <td>0</td>\n",
              "      <td>0</td>\n",
              "      <td>0</td>\n",
              "      <td>0</td>\n",
              "      <td>0</td>\n",
              "      <td>0</td>\n",
              "      <td>0</td>\n",
              "      <td>0</td>\n",
              "    </tr>\n",
              "    <tr>\n",
              "      <th>28241</th>\n",
              "      <td>147.020035</td>\n",
              "      <td>80.468735</td>\n",
              "      <td>5</td>\n",
              "      <td>0</td>\n",
              "      <td>0</td>\n",
              "      <td>0</td>\n",
              "      <td>0</td>\n",
              "      <td>0</td>\n",
              "      <td>0</td>\n",
              "      <td>0</td>\n",
              "      <td>0</td>\n",
              "      <td>0</td>\n",
              "    </tr>\n",
              "  </tbody>\n",
              "</table>\n",
              "<p>1877 rows × 12 columns</p>\n",
              "</div>"
            ],
            "text/plain": [
              "        Longitude   Latitude  capa0  capa1  ...  capa6  capa7  capa8  capa9\n",
              "7387    79.196373 -70.312141      5      0  ...      0      0      0      0\n",
              "7388    79.183662 -70.320923      5      0  ...      0      0      0      0\n",
              "7389    79.170944 -70.329712      5      0  ...      0      0      0      0\n",
              "7390    79.158234 -70.338493      5      0  ...      0      0      0      0\n",
              "7391    79.145477 -70.347275      5      0  ...      0      0      0      0\n",
              "...           ...        ...    ...    ...  ...    ...    ...    ...    ...\n",
              "27917  166.079544  81.668587      5      3  ...      0      0      0      0\n",
              "27918  166.013626  81.666420      5      5  ...      0      0      0      0\n",
              "28239  147.121567  80.478836      5      0  ...      0      0      0      0\n",
              "28240  147.070679  80.473801      5      0  ...      0      0      0      0\n",
              "28241  147.020035  80.468735      5      0  ...      0      0      0      0\n",
              "\n",
              "[1877 rows x 12 columns]"
            ]
          },
          "metadata": {
            "tags": []
          },
          "execution_count": 165
        }
      ]
    },
    {
      "cell_type": "code",
      "metadata": {
        "id": "Ekzw1-0C0BSO"
      },
      "source": [
        "base = pd.DataFrame({'Longitude': longitud, \n",
        "                          'capa0':layer_base[:,0], 'capa1':layer_base[:,1],\n",
        "                          'capa2':layer_base[:,2], 'capa3':layer_base[:,3],\n",
        "                          'capa4':layer_base[:,4], 'capa5':layer_base[:,5],\n",
        "                          'capa6':layer_base[:,6], 'capa7':layer_base[:,7],\n",
        "                          'capa8':layer_base[:,8], 'capa9':layer_base[:,9]})"
      ],
      "execution_count": 166,
      "outputs": []
    },
    {
      "cell_type": "code",
      "metadata": {
        "id": "LaR-nG0t16cl"
      },
      "source": [
        "top = pd.DataFrame({'Longitude': longitud, 'Latitude': latitud, \n",
        "                          'capa0':layer_top[:,0], 'capa1':layer_top[:,1],\n",
        "                          'capa2':layer_top[:,2], 'capa3':layer_top[:,3],\n",
        "                          'capa4':layer_top[:,4], 'capa5':layer_top[:,5],\n",
        "                          'capa6':layer_top[:,6], 'capa7':layer_top[:,7],\n",
        "                          'capa8':layer_top[:,8], 'capa9':layer_top[:,9]})"
      ],
      "execution_count": 167,
      "outputs": []
    },
    {
      "cell_type": "markdown",
      "metadata": {
        "id": "v5mjGUvOzIka"
      },
      "source": [
        "## Ploteo de altura vs longitud para cada capa"
      ]
    },
    {
      "cell_type": "code",
      "metadata": {
        "colab": {
          "base_uri": "https://localhost:8080/"
        },
        "id": "48fD21SLJ6-_",
        "outputId": "f830f960-4028-42b0-d805-b46b6a217c8f"
      },
      "source": [
        "#Comprobamos que haya algun valor distinto de -99 que es missing value en Layer Base\n",
        "for i in range(layer_base.shape[0]):\n",
        "\tnb_cloud_layer = np.where(layer_base[i,:] < 0 )\n",
        "\n",
        "nb_cloud_layer"
      ],
      "execution_count": 168,
      "outputs": [
        {
          "output_type": "execute_result",
          "data": {
            "text/plain": [
              "(array([0, 1, 2, 3, 4, 5, 6, 7, 8, 9]),)"
            ]
          },
          "metadata": {
            "tags": []
          },
          "execution_count": 168
        }
      ]
    },
    {
      "cell_type": "code",
      "metadata": {
        "id": "NlJUZWSyBaXX",
        "colab": {
          "base_uri": "https://localhost:8080/",
          "height": 129
        },
        "outputId": "2f48f172-0f13-478e-9666-f651c2de7a04"
      },
      "source": [
        "f = plt.figure()\n",
        "ax = f.add_subplot(111)\n",
        "\n",
        "#for i in range(CloudLayerBase.shape[0]):\n",
        "for i in range(layer_base.shape[0]):\n",
        "\tnb_cloud_layer = np.where(layer_base[i,:] < 0 )[0][0]\n",
        "\tfor j in range(10):\n",
        "\t\tif layer_base[i,j] > 0 and layer_top[i,j] > 0.0:\n",
        "\t\t\tbar_xi = i\n",
        "\t\t\tbar_width = 1.0\n",
        "\t\t\tbar_base = layer_base[i,j] \n",
        "\t\t\tbar_height = layer_top[i,j] - bar_base\n",
        "      layer_phase = cld_layertype[i,j]\n",
        "\t\t\tbar_color = '1.0'\n",
        "      if layer_phase == 0:\n",
        "                      bar_color = 'white'\n",
        "                    if layer_phase == 1:\n",
        "                        bar_color = 'royalblue'\n",
        "                    if layer_phase == 2:\n",
        "                        bar_color = 'firebrick'\n",
        "\t\t\tbar_edgecolor = '1.0'\n",
        "\t\t\tplt.bar(left=bar_xi, height=bar_height, width=bar_width, bottom=bar_base, color=bar_color, edgecolor=bar_edgecolor)\n",
        "                    \n",
        "                        \n",
        "\n",
        "#plt.bar(bar_xi, bar_height, width=bar_width, bottom=bar_base, color=bar_color, edgecolor=bar_edgecolor)\n",
        "ax.set_facecolor('xkcd:lightblue')\n",
        "\n",
        "plt.legend()\n",
        "\n",
        "plt.ylim(0,20)\n",
        "\n",
        "#xticks_idx = [int(i) for i in np.linspace(cldclass_lidar_start_idx,cldclass_lidar_end_idx,10)]\n",
        "#xticks_latitude = [ \"{0:.2f}\".format(latitude_table[i][0]) for i in xticks_idx]\n",
        "#plt.xticks(xticks_idx, xticks_latitude,rotation=45)\n",
        "\n",
        "plt.xlabel('Latitude')\n",
        "plt.ylabel('Altitude (in km)')\n",
        "\n",
        "plt.title('Cloud Mask')\n",
        "\n",
        "plt.show()"
      ],
      "execution_count": 169,
      "outputs": [
        {
          "output_type": "error",
          "ename": "IndentationError",
          "evalue": "ignored",
          "traceback": [
            "\u001b[0;36m  File \u001b[0;32m\"<ipython-input-169-e47059f93d54>\"\u001b[0;36m, line \u001b[0;32m13\u001b[0m\n\u001b[0;31m    layer_phase = cld_layertype[i,j]\u001b[0m\n\u001b[0m                                    ^\u001b[0m\n\u001b[0;31mIndentationError\u001b[0m\u001b[0;31m:\u001b[0m unindent does not match any outer indentation level\n"
          ]
        }
      ]
    },
    {
      "cell_type": "code",
      "metadata": {
        "colab": {
          "base_uri": "https://localhost:8080/",
          "height": 558
        },
        "id": "yVPo-F83zEW6",
        "outputId": "e9eb0ecd-787b-4f95-af05-b8b8ab256607"
      },
      "source": [
        "ax = base.plot.bar(x='Longitude', stacked=True)"
      ],
      "execution_count": 170,
      "outputs": [
        {
          "output_type": "error",
          "ename": "KeyboardInterrupt",
          "evalue": "ignored",
          "traceback": [
            "\u001b[0;31m---------------------------------------------------------------------------\u001b[0m",
            "\u001b[0;31mKeyboardInterrupt\u001b[0m                         Traceback (most recent call last)",
            "\u001b[0;32m<ipython-input-170-eec3263381ee>\u001b[0m in \u001b[0;36m<module>\u001b[0;34m()\u001b[0m\n\u001b[0;32m----> 1\u001b[0;31m \u001b[0max\u001b[0m \u001b[0;34m=\u001b[0m \u001b[0mbase\u001b[0m\u001b[0;34m.\u001b[0m\u001b[0mplot\u001b[0m\u001b[0;34m.\u001b[0m\u001b[0mbar\u001b[0m\u001b[0;34m(\u001b[0m\u001b[0mx\u001b[0m\u001b[0;34m=\u001b[0m\u001b[0;34m'Longitude'\u001b[0m\u001b[0;34m,\u001b[0m \u001b[0mstacked\u001b[0m\u001b[0;34m=\u001b[0m\u001b[0;32mTrue\u001b[0m\u001b[0;34m)\u001b[0m\u001b[0;34m\u001b[0m\u001b[0;34m\u001b[0m\u001b[0m\n\u001b[0m",
            "\u001b[0;32m/usr/local/lib/python3.7/dist-packages/pandas/plotting/_core.py\u001b[0m in \u001b[0;36mbar\u001b[0;34m(self, x, y, **kwargs)\u001b[0m\n\u001b[1;32m   1105\u001b[0m         \u001b[0mother\u001b[0m \u001b[0maxis\u001b[0m \u001b[0mrepresents\u001b[0m \u001b[0ma\u001b[0m \u001b[0mmeasured\u001b[0m \u001b[0mvalue\u001b[0m\u001b[0;34m.\u001b[0m\u001b[0;34m\u001b[0m\u001b[0;34m\u001b[0m\u001b[0m\n\u001b[1;32m   1106\u001b[0m         \"\"\"\n\u001b[0;32m-> 1107\u001b[0;31m         \u001b[0;32mreturn\u001b[0m \u001b[0mself\u001b[0m\u001b[0;34m(\u001b[0m\u001b[0mkind\u001b[0m\u001b[0;34m=\u001b[0m\u001b[0;34m\"bar\"\u001b[0m\u001b[0;34m,\u001b[0m \u001b[0mx\u001b[0m\u001b[0;34m=\u001b[0m\u001b[0mx\u001b[0m\u001b[0;34m,\u001b[0m \u001b[0my\u001b[0m\u001b[0;34m=\u001b[0m\u001b[0my\u001b[0m\u001b[0;34m,\u001b[0m \u001b[0;34m**\u001b[0m\u001b[0mkwargs\u001b[0m\u001b[0;34m)\u001b[0m\u001b[0;34m\u001b[0m\u001b[0;34m\u001b[0m\u001b[0m\n\u001b[0m\u001b[1;32m   1108\u001b[0m \u001b[0;34m\u001b[0m\u001b[0m\n\u001b[1;32m   1109\u001b[0m     @Appender(\n",
            "\u001b[0;32m/usr/local/lib/python3.7/dist-packages/pandas/plotting/_core.py\u001b[0m in \u001b[0;36m__call__\u001b[0;34m(self, *args, **kwargs)\u001b[0m\n\u001b[1;32m    947\u001b[0m                     \u001b[0mdata\u001b[0m\u001b[0;34m.\u001b[0m\u001b[0mcolumns\u001b[0m \u001b[0;34m=\u001b[0m \u001b[0mlabel_name\u001b[0m\u001b[0;34m\u001b[0m\u001b[0;34m\u001b[0m\u001b[0m\n\u001b[1;32m    948\u001b[0m \u001b[0;34m\u001b[0m\u001b[0m\n\u001b[0;32m--> 949\u001b[0;31m         \u001b[0;32mreturn\u001b[0m \u001b[0mplot_backend\u001b[0m\u001b[0;34m.\u001b[0m\u001b[0mplot\u001b[0m\u001b[0;34m(\u001b[0m\u001b[0mdata\u001b[0m\u001b[0;34m,\u001b[0m \u001b[0mkind\u001b[0m\u001b[0;34m=\u001b[0m\u001b[0mkind\u001b[0m\u001b[0;34m,\u001b[0m \u001b[0;34m**\u001b[0m\u001b[0mkwargs\u001b[0m\u001b[0;34m)\u001b[0m\u001b[0;34m\u001b[0m\u001b[0;34m\u001b[0m\u001b[0m\n\u001b[0m\u001b[1;32m    950\u001b[0m \u001b[0;34m\u001b[0m\u001b[0m\n\u001b[1;32m    951\u001b[0m     \u001b[0m__call__\u001b[0m\u001b[0;34m.\u001b[0m\u001b[0m__doc__\u001b[0m \u001b[0;34m=\u001b[0m \u001b[0m__doc__\u001b[0m\u001b[0;34m\u001b[0m\u001b[0;34m\u001b[0m\u001b[0m\n",
            "\u001b[0;32m/usr/local/lib/python3.7/dist-packages/pandas/plotting/_matplotlib/__init__.py\u001b[0m in \u001b[0;36mplot\u001b[0;34m(data, kind, **kwargs)\u001b[0m\n\u001b[1;32m     59\u001b[0m             \u001b[0mkwargs\u001b[0m\u001b[0;34m[\u001b[0m\u001b[0;34m\"ax\"\u001b[0m\u001b[0;34m]\u001b[0m \u001b[0;34m=\u001b[0m \u001b[0mgetattr\u001b[0m\u001b[0;34m(\u001b[0m\u001b[0max\u001b[0m\u001b[0;34m,\u001b[0m \u001b[0;34m\"left_ax\"\u001b[0m\u001b[0;34m,\u001b[0m \u001b[0max\u001b[0m\u001b[0;34m)\u001b[0m\u001b[0;34m\u001b[0m\u001b[0;34m\u001b[0m\u001b[0m\n\u001b[1;32m     60\u001b[0m     \u001b[0mplot_obj\u001b[0m \u001b[0;34m=\u001b[0m \u001b[0mPLOT_CLASSES\u001b[0m\u001b[0;34m[\u001b[0m\u001b[0mkind\u001b[0m\u001b[0;34m]\u001b[0m\u001b[0;34m(\u001b[0m\u001b[0mdata\u001b[0m\u001b[0;34m,\u001b[0m \u001b[0;34m**\u001b[0m\u001b[0mkwargs\u001b[0m\u001b[0;34m)\u001b[0m\u001b[0;34m\u001b[0m\u001b[0;34m\u001b[0m\u001b[0m\n\u001b[0;32m---> 61\u001b[0;31m     \u001b[0mplot_obj\u001b[0m\u001b[0;34m.\u001b[0m\u001b[0mgenerate\u001b[0m\u001b[0;34m(\u001b[0m\u001b[0;34m)\u001b[0m\u001b[0;34m\u001b[0m\u001b[0;34m\u001b[0m\u001b[0m\n\u001b[0m\u001b[1;32m     62\u001b[0m     \u001b[0mplot_obj\u001b[0m\u001b[0;34m.\u001b[0m\u001b[0mdraw\u001b[0m\u001b[0;34m(\u001b[0m\u001b[0;34m)\u001b[0m\u001b[0;34m\u001b[0m\u001b[0;34m\u001b[0m\u001b[0m\n\u001b[1;32m     63\u001b[0m     \u001b[0;32mreturn\u001b[0m \u001b[0mplot_obj\u001b[0m\u001b[0;34m.\u001b[0m\u001b[0mresult\u001b[0m\u001b[0;34m\u001b[0m\u001b[0;34m\u001b[0m\u001b[0m\n",
            "\u001b[0;32m/usr/local/lib/python3.7/dist-packages/pandas/plotting/_matplotlib/core.py\u001b[0m in \u001b[0;36mgenerate\u001b[0;34m(self)\u001b[0m\n\u001b[1;32m    269\u001b[0m         \u001b[0mself\u001b[0m\u001b[0;34m.\u001b[0m\u001b[0m_compute_plot_data\u001b[0m\u001b[0;34m(\u001b[0m\u001b[0;34m)\u001b[0m\u001b[0;34m\u001b[0m\u001b[0;34m\u001b[0m\u001b[0m\n\u001b[1;32m    270\u001b[0m         \u001b[0mself\u001b[0m\u001b[0;34m.\u001b[0m\u001b[0m_setup_subplots\u001b[0m\u001b[0;34m(\u001b[0m\u001b[0;34m)\u001b[0m\u001b[0;34m\u001b[0m\u001b[0;34m\u001b[0m\u001b[0m\n\u001b[0;32m--> 271\u001b[0;31m         \u001b[0mself\u001b[0m\u001b[0;34m.\u001b[0m\u001b[0m_make_plot\u001b[0m\u001b[0;34m(\u001b[0m\u001b[0;34m)\u001b[0m\u001b[0;34m\u001b[0m\u001b[0;34m\u001b[0m\u001b[0m\n\u001b[0m\u001b[1;32m    272\u001b[0m         \u001b[0mself\u001b[0m\u001b[0;34m.\u001b[0m\u001b[0m_add_table\u001b[0m\u001b[0;34m(\u001b[0m\u001b[0;34m)\u001b[0m\u001b[0;34m\u001b[0m\u001b[0;34m\u001b[0m\u001b[0m\n\u001b[1;32m    273\u001b[0m         \u001b[0mself\u001b[0m\u001b[0;34m.\u001b[0m\u001b[0m_make_legend\u001b[0m\u001b[0;34m(\u001b[0m\u001b[0;34m)\u001b[0m\u001b[0;34m\u001b[0m\u001b[0;34m\u001b[0m\u001b[0m\n",
            "\u001b[0;32m/usr/local/lib/python3.7/dist-packages/pandas/plotting/_matplotlib/core.py\u001b[0m in \u001b[0;36m_make_plot\u001b[0;34m(self)\u001b[0m\n\u001b[1;32m   1434\u001b[0m                     \u001b[0mlabel\u001b[0m\u001b[0;34m=\u001b[0m\u001b[0mlabel\u001b[0m\u001b[0;34m,\u001b[0m\u001b[0;34m\u001b[0m\u001b[0;34m\u001b[0m\u001b[0m\n\u001b[1;32m   1435\u001b[0m                     \u001b[0mlog\u001b[0m\u001b[0;34m=\u001b[0m\u001b[0mself\u001b[0m\u001b[0;34m.\u001b[0m\u001b[0mlog\u001b[0m\u001b[0;34m,\u001b[0m\u001b[0;34m\u001b[0m\u001b[0;34m\u001b[0m\u001b[0m\n\u001b[0;32m-> 1436\u001b[0;31m                     \u001b[0;34m**\u001b[0m\u001b[0mkwds\u001b[0m\u001b[0;34m,\u001b[0m\u001b[0;34m\u001b[0m\u001b[0;34m\u001b[0m\u001b[0m\n\u001b[0m\u001b[1;32m   1437\u001b[0m                 )\n\u001b[1;32m   1438\u001b[0m                 \u001b[0mpos_prior\u001b[0m \u001b[0;34m=\u001b[0m \u001b[0mpos_prior\u001b[0m \u001b[0;34m+\u001b[0m \u001b[0mnp\u001b[0m\u001b[0;34m.\u001b[0m\u001b[0mwhere\u001b[0m\u001b[0;34m(\u001b[0m\u001b[0mmask\u001b[0m\u001b[0;34m,\u001b[0m \u001b[0my\u001b[0m\u001b[0;34m,\u001b[0m \u001b[0;36m0\u001b[0m\u001b[0;34m)\u001b[0m\u001b[0;34m\u001b[0m\u001b[0;34m\u001b[0m\u001b[0m\n",
            "\u001b[0;32m/usr/local/lib/python3.7/dist-packages/pandas/plotting/_matplotlib/core.py\u001b[0m in \u001b[0;36m_plot\u001b[0;34m(cls, ax, x, y, w, start, log, **kwds)\u001b[0m\n\u001b[1;32m   1371\u001b[0m     \u001b[0;34m@\u001b[0m\u001b[0mclassmethod\u001b[0m\u001b[0;34m\u001b[0m\u001b[0;34m\u001b[0m\u001b[0m\n\u001b[1;32m   1372\u001b[0m     \u001b[0;32mdef\u001b[0m \u001b[0m_plot\u001b[0m\u001b[0;34m(\u001b[0m\u001b[0mcls\u001b[0m\u001b[0;34m,\u001b[0m \u001b[0max\u001b[0m\u001b[0;34m,\u001b[0m \u001b[0mx\u001b[0m\u001b[0;34m,\u001b[0m \u001b[0my\u001b[0m\u001b[0;34m,\u001b[0m \u001b[0mw\u001b[0m\u001b[0;34m,\u001b[0m \u001b[0mstart\u001b[0m\u001b[0;34m=\u001b[0m\u001b[0;36m0\u001b[0m\u001b[0;34m,\u001b[0m \u001b[0mlog\u001b[0m\u001b[0;34m=\u001b[0m\u001b[0;32mFalse\u001b[0m\u001b[0;34m,\u001b[0m \u001b[0;34m**\u001b[0m\u001b[0mkwds\u001b[0m\u001b[0;34m)\u001b[0m\u001b[0;34m:\u001b[0m\u001b[0;34m\u001b[0m\u001b[0;34m\u001b[0m\u001b[0m\n\u001b[0;32m-> 1373\u001b[0;31m         \u001b[0;32mreturn\u001b[0m \u001b[0max\u001b[0m\u001b[0;34m.\u001b[0m\u001b[0mbar\u001b[0m\u001b[0;34m(\u001b[0m\u001b[0mx\u001b[0m\u001b[0;34m,\u001b[0m \u001b[0my\u001b[0m\u001b[0;34m,\u001b[0m \u001b[0mw\u001b[0m\u001b[0;34m,\u001b[0m \u001b[0mbottom\u001b[0m\u001b[0;34m=\u001b[0m\u001b[0mstart\u001b[0m\u001b[0;34m,\u001b[0m \u001b[0mlog\u001b[0m\u001b[0;34m=\u001b[0m\u001b[0mlog\u001b[0m\u001b[0;34m,\u001b[0m \u001b[0;34m**\u001b[0m\u001b[0mkwds\u001b[0m\u001b[0;34m)\u001b[0m\u001b[0;34m\u001b[0m\u001b[0;34m\u001b[0m\u001b[0m\n\u001b[0m\u001b[1;32m   1374\u001b[0m \u001b[0;34m\u001b[0m\u001b[0m\n\u001b[1;32m   1375\u001b[0m     \u001b[0;34m@\u001b[0m\u001b[0mproperty\u001b[0m\u001b[0;34m\u001b[0m\u001b[0;34m\u001b[0m\u001b[0m\n",
            "\u001b[0;32m/usr/local/lib/python3.7/dist-packages/matplotlib/__init__.py\u001b[0m in \u001b[0;36minner\u001b[0;34m(ax, data, *args, **kwargs)\u001b[0m\n\u001b[1;32m   1563\u001b[0m     \u001b[0;32mdef\u001b[0m \u001b[0minner\u001b[0m\u001b[0;34m(\u001b[0m\u001b[0max\u001b[0m\u001b[0;34m,\u001b[0m \u001b[0;34m*\u001b[0m\u001b[0margs\u001b[0m\u001b[0;34m,\u001b[0m \u001b[0mdata\u001b[0m\u001b[0;34m=\u001b[0m\u001b[0;32mNone\u001b[0m\u001b[0;34m,\u001b[0m \u001b[0;34m**\u001b[0m\u001b[0mkwargs\u001b[0m\u001b[0;34m)\u001b[0m\u001b[0;34m:\u001b[0m\u001b[0;34m\u001b[0m\u001b[0;34m\u001b[0m\u001b[0m\n\u001b[1;32m   1564\u001b[0m         \u001b[0;32mif\u001b[0m \u001b[0mdata\u001b[0m \u001b[0;32mis\u001b[0m \u001b[0;32mNone\u001b[0m\u001b[0;34m:\u001b[0m\u001b[0;34m\u001b[0m\u001b[0;34m\u001b[0m\u001b[0m\n\u001b[0;32m-> 1565\u001b[0;31m             \u001b[0;32mreturn\u001b[0m \u001b[0mfunc\u001b[0m\u001b[0;34m(\u001b[0m\u001b[0max\u001b[0m\u001b[0;34m,\u001b[0m \u001b[0;34m*\u001b[0m\u001b[0mmap\u001b[0m\u001b[0;34m(\u001b[0m\u001b[0msanitize_sequence\u001b[0m\u001b[0;34m,\u001b[0m \u001b[0margs\u001b[0m\u001b[0;34m)\u001b[0m\u001b[0;34m,\u001b[0m \u001b[0;34m**\u001b[0m\u001b[0mkwargs\u001b[0m\u001b[0;34m)\u001b[0m\u001b[0;34m\u001b[0m\u001b[0;34m\u001b[0m\u001b[0m\n\u001b[0m\u001b[1;32m   1566\u001b[0m \u001b[0;34m\u001b[0m\u001b[0m\n\u001b[1;32m   1567\u001b[0m         \u001b[0mbound\u001b[0m \u001b[0;34m=\u001b[0m \u001b[0mnew_sig\u001b[0m\u001b[0;34m.\u001b[0m\u001b[0mbind\u001b[0m\u001b[0;34m(\u001b[0m\u001b[0max\u001b[0m\u001b[0;34m,\u001b[0m \u001b[0;34m*\u001b[0m\u001b[0margs\u001b[0m\u001b[0;34m,\u001b[0m \u001b[0;34m**\u001b[0m\u001b[0mkwargs\u001b[0m\u001b[0;34m)\u001b[0m\u001b[0;34m\u001b[0m\u001b[0;34m\u001b[0m\u001b[0m\n",
            "\u001b[0;32m/usr/local/lib/python3.7/dist-packages/matplotlib/axes/_axes.py\u001b[0m in \u001b[0;36mbar\u001b[0;34m(self, x, height, width, bottom, align, **kwargs)\u001b[0m\n\u001b[1;32m   2402\u001b[0m             \u001b[0;32melif\u001b[0m \u001b[0morientation\u001b[0m \u001b[0;34m==\u001b[0m \u001b[0;34m'horizontal'\u001b[0m\u001b[0;34m:\u001b[0m\u001b[0;34m\u001b[0m\u001b[0;34m\u001b[0m\u001b[0m\n\u001b[1;32m   2403\u001b[0m                 \u001b[0mr\u001b[0m\u001b[0;34m.\u001b[0m\u001b[0msticky_edges\u001b[0m\u001b[0;34m.\u001b[0m\u001b[0mx\u001b[0m\u001b[0;34m.\u001b[0m\u001b[0mappend\u001b[0m\u001b[0;34m(\u001b[0m\u001b[0ml\u001b[0m\u001b[0;34m)\u001b[0m\u001b[0;34m\u001b[0m\u001b[0;34m\u001b[0m\u001b[0m\n\u001b[0;32m-> 2404\u001b[0;31m             \u001b[0mself\u001b[0m\u001b[0;34m.\u001b[0m\u001b[0madd_patch\u001b[0m\u001b[0;34m(\u001b[0m\u001b[0mr\u001b[0m\u001b[0;34m)\u001b[0m\u001b[0;34m\u001b[0m\u001b[0;34m\u001b[0m\u001b[0m\n\u001b[0m\u001b[1;32m   2405\u001b[0m             \u001b[0mpatches\u001b[0m\u001b[0;34m.\u001b[0m\u001b[0mappend\u001b[0m\u001b[0;34m(\u001b[0m\u001b[0mr\u001b[0m\u001b[0;34m)\u001b[0m\u001b[0;34m\u001b[0m\u001b[0;34m\u001b[0m\u001b[0m\n\u001b[1;32m   2406\u001b[0m \u001b[0;34m\u001b[0m\u001b[0m\n",
            "\u001b[0;32m/usr/local/lib/python3.7/dist-packages/matplotlib/axes/_base.py\u001b[0m in \u001b[0;36madd_patch\u001b[0;34m(self, p)\u001b[0m\n\u001b[1;32m   1917\u001b[0m         \u001b[0;32mif\u001b[0m \u001b[0mp\u001b[0m\u001b[0;34m.\u001b[0m\u001b[0mget_clip_path\u001b[0m\u001b[0;34m(\u001b[0m\u001b[0;34m)\u001b[0m \u001b[0;32mis\u001b[0m \u001b[0;32mNone\u001b[0m\u001b[0;34m:\u001b[0m\u001b[0;34m\u001b[0m\u001b[0;34m\u001b[0m\u001b[0m\n\u001b[1;32m   1918\u001b[0m             \u001b[0mp\u001b[0m\u001b[0;34m.\u001b[0m\u001b[0mset_clip_path\u001b[0m\u001b[0;34m(\u001b[0m\u001b[0mself\u001b[0m\u001b[0;34m.\u001b[0m\u001b[0mpatch\u001b[0m\u001b[0;34m)\u001b[0m\u001b[0;34m\u001b[0m\u001b[0;34m\u001b[0m\u001b[0m\n\u001b[0;32m-> 1919\u001b[0;31m         \u001b[0mself\u001b[0m\u001b[0;34m.\u001b[0m\u001b[0m_update_patch_limits\u001b[0m\u001b[0;34m(\u001b[0m\u001b[0mp\u001b[0m\u001b[0;34m)\u001b[0m\u001b[0;34m\u001b[0m\u001b[0;34m\u001b[0m\u001b[0m\n\u001b[0m\u001b[1;32m   1920\u001b[0m         \u001b[0mself\u001b[0m\u001b[0;34m.\u001b[0m\u001b[0mpatches\u001b[0m\u001b[0;34m.\u001b[0m\u001b[0mappend\u001b[0m\u001b[0;34m(\u001b[0m\u001b[0mp\u001b[0m\u001b[0;34m)\u001b[0m\u001b[0;34m\u001b[0m\u001b[0;34m\u001b[0m\u001b[0m\n\u001b[1;32m   1921\u001b[0m         \u001b[0mp\u001b[0m\u001b[0;34m.\u001b[0m\u001b[0m_remove_method\u001b[0m \u001b[0;34m=\u001b[0m \u001b[0mself\u001b[0m\u001b[0;34m.\u001b[0m\u001b[0mpatches\u001b[0m\u001b[0;34m.\u001b[0m\u001b[0mremove\u001b[0m\u001b[0;34m\u001b[0m\u001b[0;34m\u001b[0m\u001b[0m\n",
            "\u001b[0;32m/usr/local/lib/python3.7/dist-packages/matplotlib/axes/_base.py\u001b[0m in \u001b[0;36m_update_patch_limits\u001b[0;34m(self, patch)\u001b[0m\n\u001b[1;32m   1937\u001b[0m         \u001b[0mvertices\u001b[0m \u001b[0;34m=\u001b[0m \u001b[0mpatch\u001b[0m\u001b[0;34m.\u001b[0m\u001b[0mget_path\u001b[0m\u001b[0;34m(\u001b[0m\u001b[0;34m)\u001b[0m\u001b[0;34m.\u001b[0m\u001b[0mvertices\u001b[0m\u001b[0;34m\u001b[0m\u001b[0;34m\u001b[0m\u001b[0m\n\u001b[1;32m   1938\u001b[0m         \u001b[0;32mif\u001b[0m \u001b[0mvertices\u001b[0m\u001b[0;34m.\u001b[0m\u001b[0msize\u001b[0m \u001b[0;34m>\u001b[0m \u001b[0;36m0\u001b[0m\u001b[0;34m:\u001b[0m\u001b[0;34m\u001b[0m\u001b[0;34m\u001b[0m\u001b[0m\n\u001b[0;32m-> 1939\u001b[0;31m             \u001b[0mxys\u001b[0m \u001b[0;34m=\u001b[0m \u001b[0mpatch\u001b[0m\u001b[0;34m.\u001b[0m\u001b[0mget_patch_transform\u001b[0m\u001b[0;34m(\u001b[0m\u001b[0;34m)\u001b[0m\u001b[0;34m.\u001b[0m\u001b[0mtransform\u001b[0m\u001b[0;34m(\u001b[0m\u001b[0mvertices\u001b[0m\u001b[0;34m)\u001b[0m\u001b[0;34m\u001b[0m\u001b[0;34m\u001b[0m\u001b[0m\n\u001b[0m\u001b[1;32m   1940\u001b[0m             \u001b[0;32mif\u001b[0m \u001b[0mpatch\u001b[0m\u001b[0;34m.\u001b[0m\u001b[0mget_data_transform\u001b[0m\u001b[0;34m(\u001b[0m\u001b[0;34m)\u001b[0m \u001b[0;34m!=\u001b[0m \u001b[0mself\u001b[0m\u001b[0;34m.\u001b[0m\u001b[0mtransData\u001b[0m\u001b[0;34m:\u001b[0m\u001b[0;34m\u001b[0m\u001b[0;34m\u001b[0m\u001b[0m\n\u001b[1;32m   1941\u001b[0m                 patch_to_data = (patch.get_data_transform() -\n",
            "\u001b[0;32m/usr/local/lib/python3.7/dist-packages/matplotlib/transforms.py\u001b[0m in \u001b[0;36mtransform\u001b[0;34m(self, values)\u001b[0m\n\u001b[1;32m   1403\u001b[0m \u001b[0;34m\u001b[0m\u001b[0m\n\u001b[1;32m   1404\u001b[0m         \u001b[0;31m# Transform the values\u001b[0m\u001b[0;34m\u001b[0m\u001b[0;34m\u001b[0m\u001b[0;34m\u001b[0m\u001b[0m\n\u001b[0;32m-> 1405\u001b[0;31m         \u001b[0mres\u001b[0m \u001b[0;34m=\u001b[0m \u001b[0mself\u001b[0m\u001b[0;34m.\u001b[0m\u001b[0mtransform_affine\u001b[0m\u001b[0;34m(\u001b[0m\u001b[0mself\u001b[0m\u001b[0;34m.\u001b[0m\u001b[0mtransform_non_affine\u001b[0m\u001b[0;34m(\u001b[0m\u001b[0mvalues\u001b[0m\u001b[0;34m)\u001b[0m\u001b[0;34m)\u001b[0m\u001b[0;34m\u001b[0m\u001b[0;34m\u001b[0m\u001b[0m\n\u001b[0m\u001b[1;32m   1406\u001b[0m \u001b[0;34m\u001b[0m\u001b[0m\n\u001b[1;32m   1407\u001b[0m         \u001b[0;31m# Convert the result back to the shape of the input values.\u001b[0m\u001b[0;34m\u001b[0m\u001b[0;34m\u001b[0m\u001b[0;34m\u001b[0m\u001b[0m\n",
            "\u001b[0;32m/usr/local/lib/python3.7/dist-packages/matplotlib/transforms.py\u001b[0m in \u001b[0;36mtransform_affine\u001b[0;34m(self, points)\u001b[0m\n\u001b[1;32m   2363\u001b[0m     \u001b[0;32mdef\u001b[0m \u001b[0mtransform_affine\u001b[0m\u001b[0;34m(\u001b[0m\u001b[0mself\u001b[0m\u001b[0;34m,\u001b[0m \u001b[0mpoints\u001b[0m\u001b[0;34m)\u001b[0m\u001b[0;34m:\u001b[0m\u001b[0;34m\u001b[0m\u001b[0;34m\u001b[0m\u001b[0m\n\u001b[1;32m   2364\u001b[0m         \u001b[0;31m# docstring inherited\u001b[0m\u001b[0;34m\u001b[0m\u001b[0;34m\u001b[0m\u001b[0;34m\u001b[0m\u001b[0m\n\u001b[0;32m-> 2365\u001b[0;31m         \u001b[0;32mreturn\u001b[0m \u001b[0mself\u001b[0m\u001b[0;34m.\u001b[0m\u001b[0mget_affine\u001b[0m\u001b[0;34m(\u001b[0m\u001b[0;34m)\u001b[0m\u001b[0;34m.\u001b[0m\u001b[0mtransform\u001b[0m\u001b[0;34m(\u001b[0m\u001b[0mpoints\u001b[0m\u001b[0;34m)\u001b[0m\u001b[0;34m\u001b[0m\u001b[0;34m\u001b[0m\u001b[0m\n\u001b[0m\u001b[1;32m   2366\u001b[0m \u001b[0;34m\u001b[0m\u001b[0m\n\u001b[1;32m   2367\u001b[0m     \u001b[0;32mdef\u001b[0m \u001b[0mtransform_non_affine\u001b[0m\u001b[0;34m(\u001b[0m\u001b[0mself\u001b[0m\u001b[0;34m,\u001b[0m \u001b[0mpoints\u001b[0m\u001b[0;34m)\u001b[0m\u001b[0;34m:\u001b[0m\u001b[0;34m\u001b[0m\u001b[0;34m\u001b[0m\u001b[0m\n",
            "\u001b[0;32m/usr/local/lib/python3.7/dist-packages/matplotlib/transforms.py\u001b[0m in \u001b[0;36mtransform\u001b[0;34m(self, values)\u001b[0m\n\u001b[1;32m   1714\u001b[0m     \u001b[0;32mdef\u001b[0m \u001b[0mtransform\u001b[0m\u001b[0;34m(\u001b[0m\u001b[0mself\u001b[0m\u001b[0;34m,\u001b[0m \u001b[0mvalues\u001b[0m\u001b[0;34m)\u001b[0m\u001b[0;34m:\u001b[0m\u001b[0;34m\u001b[0m\u001b[0;34m\u001b[0m\u001b[0m\n\u001b[1;32m   1715\u001b[0m         \u001b[0;31m# docstring inherited\u001b[0m\u001b[0;34m\u001b[0m\u001b[0;34m\u001b[0m\u001b[0;34m\u001b[0m\u001b[0m\n\u001b[0;32m-> 1716\u001b[0;31m         \u001b[0;32mreturn\u001b[0m \u001b[0mself\u001b[0m\u001b[0;34m.\u001b[0m\u001b[0mtransform_affine\u001b[0m\u001b[0;34m(\u001b[0m\u001b[0mvalues\u001b[0m\u001b[0;34m)\u001b[0m\u001b[0;34m\u001b[0m\u001b[0;34m\u001b[0m\u001b[0m\n\u001b[0m\u001b[1;32m   1717\u001b[0m \u001b[0;34m\u001b[0m\u001b[0m\n\u001b[1;32m   1718\u001b[0m     \u001b[0;32mdef\u001b[0m \u001b[0mtransform_affine\u001b[0m\u001b[0;34m(\u001b[0m\u001b[0mself\u001b[0m\u001b[0;34m,\u001b[0m \u001b[0mvalues\u001b[0m\u001b[0;34m)\u001b[0m\u001b[0;34m:\u001b[0m\u001b[0;34m\u001b[0m\u001b[0;34m\u001b[0m\u001b[0m\n",
            "\u001b[0;32m/usr/local/lib/python3.7/dist-packages/matplotlib/transforms.py\u001b[0m in \u001b[0;36mtransform_affine\u001b[0;34m(self, points)\u001b[0m\n\u001b[1;32m   1796\u001b[0m             \u001b[0mtpoints\u001b[0m \u001b[0;34m=\u001b[0m \u001b[0maffine_transform\u001b[0m\u001b[0;34m(\u001b[0m\u001b[0mpoints\u001b[0m\u001b[0;34m.\u001b[0m\u001b[0mdata\u001b[0m\u001b[0;34m,\u001b[0m \u001b[0mmtx\u001b[0m\u001b[0;34m)\u001b[0m\u001b[0;34m\u001b[0m\u001b[0;34m\u001b[0m\u001b[0m\n\u001b[1;32m   1797\u001b[0m             \u001b[0;32mreturn\u001b[0m \u001b[0mnp\u001b[0m\u001b[0;34m.\u001b[0m\u001b[0mma\u001b[0m\u001b[0;34m.\u001b[0m\u001b[0mMaskedArray\u001b[0m\u001b[0;34m(\u001b[0m\u001b[0mtpoints\u001b[0m\u001b[0;34m,\u001b[0m \u001b[0mmask\u001b[0m\u001b[0;34m=\u001b[0m\u001b[0mnp\u001b[0m\u001b[0;34m.\u001b[0m\u001b[0mma\u001b[0m\u001b[0;34m.\u001b[0m\u001b[0mgetmask\u001b[0m\u001b[0;34m(\u001b[0m\u001b[0mpoints\u001b[0m\u001b[0;34m)\u001b[0m\u001b[0;34m)\u001b[0m\u001b[0;34m\u001b[0m\u001b[0;34m\u001b[0m\u001b[0m\n\u001b[0;32m-> 1798\u001b[0;31m         \u001b[0;32mreturn\u001b[0m \u001b[0maffine_transform\u001b[0m\u001b[0;34m(\u001b[0m\u001b[0mpoints\u001b[0m\u001b[0;34m,\u001b[0m \u001b[0mmtx\u001b[0m\u001b[0;34m)\u001b[0m\u001b[0;34m\u001b[0m\u001b[0;34m\u001b[0m\u001b[0m\n\u001b[0m\u001b[1;32m   1799\u001b[0m \u001b[0;34m\u001b[0m\u001b[0m\n\u001b[1;32m   1800\u001b[0m     \u001b[0;32mif\u001b[0m \u001b[0mDEBUG\u001b[0m\u001b[0;34m:\u001b[0m\u001b[0;34m\u001b[0m\u001b[0;34m\u001b[0m\u001b[0m\n",
            "\u001b[0;31mKeyboardInterrupt\u001b[0m: "
          ]
        },
        {
          "output_type": "display_data",
          "data": {
            "image/png": "[encoded data removed]",
            "text/plain": [
              "<Figure size 432x288 with 1 Axes>"
            ]
          },
          "metadata": {
            "tags": [],
            "needs_background": "light"
          }
        }
      ]
    },
    {
      "cell_type": "markdown",
      "metadata": {
        "id": "o9YFxjh-A_fc"
      },
      "source": [
        "## Latitud vs longitud, scatterplot de la capa\n",
        "Primero voy a dibujar sin mapa, solo latitud, longitud y los tipos de nubes para cada coordenada."
      ]
    },
    {
      "cell_type": "code",
      "metadata": {
        "colab": {
          "base_uri": "https://localhost:8080/",
          "height": 497
        },
        "id": "zTVt_HmGBNML",
        "outputId": "96db01b2-aa30-47e0-a9fa-9bf3c92c9815"
      },
      "source": [
        "#Ploteo de capa 0 en lat,lon sin proyeccion\n",
        "def latlonplot(tipo_capa):\n",
        "  fig_dims = (8, 8)\n",
        "  fig, ax = plt.subplots(figsize=fig_dims)\n",
        "  sns.scatterplot(x='Longitude', y='Latitude', data= tipo_capa.assign(tipos_capa0 =tipo_capa.capa0.map(dic_LayerType)), \n",
        "                  hue='tipos_capa0',palette='bright',marker='o', s=1)\n",
        "  ax.set_xlabel('Longitude')\n",
        "  ax.set_ylabel('Latitude')\n",
        "  plt.show()\n",
        "\n",
        "latlonplot(tipo_capa.iloc[15000:25000,:])"
      ],
      "execution_count": 171,
      "outputs": [
        {
          "output_type": "display_data",
          "data": {
            "image/png": "[encoded data removed]",
            "text/plain": [
              "<Figure size 576x576 with 1 Axes>"
            ]
          },
          "metadata": {
            "tags": [],
            "needs_background": "light"
          }
        }
      ]
    },
    {
      "cell_type": "markdown",
      "metadata": {
        "id": "d6Npp7LVhvVh"
      },
      "source": [
        "## Con proyeccion geoestacionaria de GOES16\n",
        "\n",
        "Voy a graficar la capa 0 y la reproyecto a latitud, longitud."
      ]
    },
    {
      "cell_type": "code",
      "metadata": {
        "colab": {
          "base_uri": "https://localhost:8080/"
        },
        "id": "R1ALlRg-Lh3v",
        "outputId": "de1f6fb3-75c2-458c-cdaa-3b9ada5f71f6"
      },
      "source": [
        "geo_df = gpd.GeoDataFrame(tipo_capa.loc[:,['Longitude','Latitude','capa0']], \n",
        "                          geometry=gpd.points_from_xy(tipo_capa.Longitude, tipo_capa.Latitude))\n",
        "geo_df.crs = {'init': 'epsg:4326'} # EPSG 4326 corresponds to coordinates in latitude and longitude"
      ],
      "execution_count": 172,
      "outputs": [
        {
          "output_type": "stream",
          "text": [
            "/usr/local/lib/python3.7/dist-packages/pyproj/crs/crs.py:53: FutureWarning: '+init=<authority>:<code>' syntax is deprecated. '<authority>:<code>' is the preferred initialization method. When making the change, be mindful of axis order changes: https://pyproj4.github.io/pyproj/stable/gotchas.html#axis-order-changes-in-proj-6\n",
            "  return _prepare_from_string(\" \".join(pjargs))\n"
          ],
          "name": "stderr"
        }
      ]
    },
    {
      "cell_type": "code",
      "metadata": {
        "colab": {
          "base_uri": "https://localhost:8080/",
          "height": 419
        },
        "id": "lA4vPr8-QrIt",
        "outputId": "bdf029ee-91bd-4609-fc47-76cb1ab2f3a5"
      },
      "source": [
        "geo_df.loc[geo_df.capa0.isin([1])] \n",
        "#vemos que se agrega esa tabla geometry que es lo que usa geopandas para proyectar despues"
      ],
      "execution_count": 173,
      "outputs": [
        {
          "output_type": "execute_result",
          "data": {
            "text/html": [
              "<div>\n",
              "<style scoped>\n",
              "    .dataframe tbody tr th:only-of-type {\n",
              "        vertical-align: middle;\n",
              "    }\n",
              "\n",
              "    .dataframe tbody tr th {\n",
              "        vertical-align: top;\n",
              "    }\n",
              "\n",
              "    .dataframe thead th {\n",
              "        text-align: right;\n",
              "    }\n",
              "</style>\n",
              "<table border=\"1\" class=\"dataframe\">\n",
              "  <thead>\n",
              "    <tr style=\"text-align: right;\">\n",
              "      <th></th>\n",
              "      <th>Longitude</th>\n",
              "      <th>Latitude</th>\n",
              "      <th>capa0</th>\n",
              "      <th>geometry</th>\n",
              "    </tr>\n",
              "  </thead>\n",
              "  <tbody>\n",
              "    <tr>\n",
              "      <th>10109</th>\n",
              "      <td>-35.081402</td>\n",
              "      <td>-78.394424</td>\n",
              "      <td>1</td>\n",
              "      <td>POINT (-35.08140 -78.39442)</td>\n",
              "    </tr>\n",
              "    <tr>\n",
              "      <th>10110</th>\n",
              "      <td>-35.115707</td>\n",
              "      <td>-78.387535</td>\n",
              "      <td>1</td>\n",
              "      <td>POINT (-35.11571 -78.38754)</td>\n",
              "    </tr>\n",
              "    <tr>\n",
              "      <th>12823</th>\n",
              "      <td>-69.338676</td>\n",
              "      <td>-54.582970</td>\n",
              "      <td>1</td>\n",
              "      <td>POINT (-69.33868 -54.58297)</td>\n",
              "    </tr>\n",
              "    <tr>\n",
              "      <th>12824</th>\n",
              "      <td>-69.343422</td>\n",
              "      <td>-54.573559</td>\n",
              "      <td>1</td>\n",
              "      <td>POINT (-69.34342 -54.57356)</td>\n",
              "    </tr>\n",
              "    <tr>\n",
              "      <th>12837</th>\n",
              "      <td>-69.404984</td>\n",
              "      <td>-54.451199</td>\n",
              "      <td>1</td>\n",
              "      <td>POINT (-69.40498 -54.45120)</td>\n",
              "    </tr>\n",
              "    <tr>\n",
              "      <th>...</th>\n",
              "      <td>...</td>\n",
              "      <td>...</td>\n",
              "      <td>...</td>\n",
              "      <td>...</td>\n",
              "    </tr>\n",
              "    <tr>\n",
              "      <th>25748</th>\n",
              "      <td>-111.624046</td>\n",
              "      <td>69.217392</td>\n",
              "      <td>1</td>\n",
              "      <td>POINT (-111.62405 69.21739)</td>\n",
              "    </tr>\n",
              "    <tr>\n",
              "      <th>25749</th>\n",
              "      <td>-111.635628</td>\n",
              "      <td>69.226303</td>\n",
              "      <td>1</td>\n",
              "      <td>POINT (-111.63563 69.22630)</td>\n",
              "    </tr>\n",
              "    <tr>\n",
              "      <th>25750</th>\n",
              "      <td>-111.647209</td>\n",
              "      <td>69.235214</td>\n",
              "      <td>1</td>\n",
              "      <td>POINT (-111.64721 69.23521)</td>\n",
              "    </tr>\n",
              "    <tr>\n",
              "      <th>25751</th>\n",
              "      <td>-111.658798</td>\n",
              "      <td>69.244125</td>\n",
              "      <td>1</td>\n",
              "      <td>POINT (-111.65880 69.24413)</td>\n",
              "    </tr>\n",
              "    <tr>\n",
              "      <th>25752</th>\n",
              "      <td>-111.670380</td>\n",
              "      <td>69.253036</td>\n",
              "      <td>1</td>\n",
              "      <td>POINT (-111.67038 69.25304)</td>\n",
              "    </tr>\n",
              "  </tbody>\n",
              "</table>\n",
              "<p>1073 rows × 4 columns</p>\n",
              "</div>"
            ],
            "text/plain": [
              "        Longitude   Latitude  capa0                     geometry\n",
              "10109  -35.081402 -78.394424      1  POINT (-35.08140 -78.39442)\n",
              "10110  -35.115707 -78.387535      1  POINT (-35.11571 -78.38754)\n",
              "12823  -69.338676 -54.582970      1  POINT (-69.33868 -54.58297)\n",
              "12824  -69.343422 -54.573559      1  POINT (-69.34342 -54.57356)\n",
              "12837  -69.404984 -54.451199      1  POINT (-69.40498 -54.45120)\n",
              "...           ...        ...    ...                          ...\n",
              "25748 -111.624046  69.217392      1  POINT (-111.62405 69.21739)\n",
              "25749 -111.635628  69.226303      1  POINT (-111.63563 69.22630)\n",
              "25750 -111.647209  69.235214      1  POINT (-111.64721 69.23521)\n",
              "25751 -111.658798  69.244125      1  POINT (-111.65880 69.24413)\n",
              "25752 -111.670380  69.253036      1  POINT (-111.67038 69.25304)\n",
              "\n",
              "[1073 rows x 4 columns]"
            ]
          },
          "metadata": {
            "tags": []
          },
          "execution_count": 173
        }
      ]
    },
    {
      "cell_type": "code",
      "metadata": {
        "id": "BNj_w50LRYUt"
      },
      "source": [
        "  #dibujo con proyección mercator epsg=32630, con mapa estilo gps de fondo\n",
        "#import contextily as cx\n",
        "#ax = geo_df.to_crs(epsg=32630).plot(figsize=(8,10), cmap= cmap_discretize(cm.gist_ncar_r, 9)) \n",
        "#cx.add_basemap(ax)"
      ],
      "execution_count": 174,
      "outputs": []
    },
    {
      "cell_type": "code",
      "metadata": {
        "colab": {
          "base_uri": "https://localhost:8080/",
          "height": 204
        },
        "id": "pcvlbvrdZwka",
        "outputId": "5b8a9c0e-13a2-4b8d-82a6-116291a19321"
      },
      "source": [
        "  #Reproyectar al sistema de GOES cada uno de los puntos\n",
        "geodf_toGOES = geo_df.to_crs(\"+proj=geos +h=35786023.0 +lon_0=-75.0\")\n",
        "geodf_toGOES.head()"
      ],
      "execution_count": 175,
      "outputs": [
        {
          "output_type": "execute_result",
          "data": {
            "text/html": [
              "<div>\n",
              "<style scoped>\n",
              "    .dataframe tbody tr th:only-of-type {\n",
              "        vertical-align: middle;\n",
              "    }\n",
              "\n",
              "    .dataframe tbody tr th {\n",
              "        vertical-align: top;\n",
              "    }\n",
              "\n",
              "    .dataframe thead th {\n",
              "        text-align: right;\n",
              "    }\n",
              "</style>\n",
              "<table border=\"1\" class=\"dataframe\">\n",
              "  <thead>\n",
              "    <tr style=\"text-align: right;\">\n",
              "      <th></th>\n",
              "      <th>Longitude</th>\n",
              "      <th>Latitude</th>\n",
              "      <th>capa0</th>\n",
              "      <th>geometry</th>\n",
              "    </tr>\n",
              "  </thead>\n",
              "  <tbody>\n",
              "    <tr>\n",
              "      <th>0</th>\n",
              "      <td>107.629601</td>\n",
              "      <td>-0.004875</td>\n",
              "      <td>0</td>\n",
              "      <td>POINT (inf inf)</td>\n",
              "    </tr>\n",
              "    <tr>\n",
              "      <th>1</th>\n",
              "      <td>107.627548</td>\n",
              "      <td>-0.014581</td>\n",
              "      <td>0</td>\n",
              "      <td>POINT (inf inf)</td>\n",
              "    </tr>\n",
              "    <tr>\n",
              "      <th>2</th>\n",
              "      <td>107.625504</td>\n",
              "      <td>-0.024287</td>\n",
              "      <td>0</td>\n",
              "      <td>POINT (inf inf)</td>\n",
              "    </tr>\n",
              "    <tr>\n",
              "      <th>3</th>\n",
              "      <td>107.623451</td>\n",
              "      <td>-0.033994</td>\n",
              "      <td>0</td>\n",
              "      <td>POINT (inf inf)</td>\n",
              "    </tr>\n",
              "    <tr>\n",
              "      <th>4</th>\n",
              "      <td>107.621399</td>\n",
              "      <td>-0.043700</td>\n",
              "      <td>0</td>\n",
              "      <td>POINT (inf inf)</td>\n",
              "    </tr>\n",
              "  </tbody>\n",
              "</table>\n",
              "</div>"
            ],
            "text/plain": [
              "    Longitude  Latitude  capa0         geometry\n",
              "0  107.629601 -0.004875      0  POINT (inf inf)\n",
              "1  107.627548 -0.014581      0  POINT (inf inf)\n",
              "2  107.625504 -0.024287      0  POINT (inf inf)\n",
              "3  107.623451 -0.033994      0  POINT (inf inf)\n",
              "4  107.621399 -0.043700      0  POINT (inf inf)"
            ]
          },
          "metadata": {
            "tags": []
          },
          "execution_count": 175
        }
      ]
    },
    {
      "cell_type": "code",
      "metadata": {
        "id": "hfXZi9z1f3dw"
      },
      "source": [
        "crs=ccrs.Geostationary(central_longitude=-75.0, satellite_height=35786023.0) #proyeccion geoestacionaria para Goes16"
      ],
      "execution_count": 176,
      "outputs": []
    },
    {
      "cell_type": "code",
      "metadata": {
        "colab": {
          "base_uri": "https://localhost:8080/",
          "height": 592
        },
        "id": "bnC2ZQgOdwlx",
        "outputId": "5d39f0dd-f884-4b64-adfe-c9b1603d7626"
      },
      "source": [
        "fig_dims = (10, 10)\n",
        "fig, axis = plt.subplots(figsize=fig_dims)\n",
        "\n",
        "axis = plt.axes(projection=crs)\n",
        "axis.gridlines \n",
        "axis.coastlines(resolution='10m',color='blue') \n",
        "sns.scatterplot(x='Longitude', y='Latitude', data=geodf_toGOES.iloc[10000:20000,:], hue='capa0',palette='bright',s=2, transform=ccrs.PlateCarree())\n",
        "#el transform es lo que hace que el sns se dibuje sobre el mapa\n",
        "#geo_df.to_crs(\"+proj=geos +h=35786023.0 +lon_0=-75.0\").plot(figsize=(10,10), ax=axis) esto funcionaria pero hay que agregarle un cmap"
      ],
      "execution_count": 186,
      "outputs": [
        {
          "output_type": "execute_result",
          "data": {
            "text/plain": [
              "<cartopy.mpl.geoaxes.GeoAxesSubplot at 0x7f58429a2510>"
            ]
          },
          "metadata": {
            "tags": []
          },
          "execution_count": 186
        },
        {
          "output_type": "display_data",
          "data": {
            "image/png": "[encoded data removed]",
            "text/plain": [
              "<Figure size 720x720 with 1 Axes>"
            ]
          },
          "metadata": {
            "tags": [],
            "needs_background": "light"
          }
        }
      ]
    },
    {
      "cell_type": "markdown",
      "metadata": {
        "id": "sjMaKoiT9yhb"
      },
      "source": [
        "# Clases finales\n",
        "\n",
        "Finalmente definimos clases y funciones que realizan el procedimiento explicado anteriormente para que sea mas facil realizarlo para muchos archivos y el codigo sea mas reproducible. "
      ]
    },
    {
      "cell_type": "code",
      "metadata": {
        "id": "BrjK8d4Uw6Co"
      },
      "source": [
        "class CldClass:\n",
        "  def __init__(self,path_total):\n",
        "    self.path_total = path_total\n",
        "    self.file_name = os.path.split(self.path_total)[-1]\n",
        "    date = self.file_name.split('_')[0]\n",
        "    self.year = date[:4]\n",
        "    self.julian_day = date[4:7]\n",
        "    self.hour_utc = date[7:9]\n",
        "    self.light=''\n",
        "    if int(self.hour_utc)>10:\n",
        "      self.light='day'\n",
        "    else:\n",
        "      self.light='night'\n",
        "  \n",
        "  def open_cldclass(self, sur=True):\n",
        "    \"\"\"\n",
        "      Función que toma un path donde debe estar el archivo CLDCLASS de Cloudsat y devuelve un dataframe de Pandas \n",
        "    con los datos del archivo cldclass guardados en columnas del dataframe: latitud, longitud, capa0, capa1,..., capa9;\n",
        "    con cada tipo de nube segun cada capa.\n",
        "    Parameters:\n",
        "    -----------\n",
        "    sur : Bool. Si se quiere abrir solo la parte de sudamerica. Default=True.\n",
        "\n",
        "    Returns:\n",
        "    -----------\n",
        "    layers_df: Pandas Dataframe lat, lon, tipo de nube en cada una de las capas (son 10)\n",
        "    \"\"\"\n",
        "  #Read v data\n",
        "    hdf_file = HDF(self.path_total, HC.READ)\n",
        "    vs = hdf_file.vstart()\n",
        "    vdata = vs.vdatainfo() #es una lista de tuplas. acá estan lat y long y cloud layers\n",
        "\n",
        "    vd_lat = vs.attach('Latitude', write=0)\n",
        "    lat = vd_lat[:]\n",
        "    vd_lat.detach\n",
        "\n",
        "    vd_lon = vs.attach('Longitude', write=0)\n",
        "    lon = vd_lon[:]\n",
        "    vd_lon.detach\n",
        "    vs.end() \n",
        "    #hdf_file.close()\n",
        "\n",
        "    latitud = np.array(lat).flatten()\n",
        "    longitud = np.array(lon).flatten()\n",
        "\n",
        "    #Read sd data\n",
        "    file = SD(self.path_total, SDC.READ)  \n",
        "    start_point=0\n",
        "    end_point=36951\n",
        "    if sur==True:\n",
        "      if self.light=='night':\n",
        "        end_point = 6000 \n",
        "      else:\n",
        "        end_point=20000\n",
        "        if self.hour_utc==(15):\n",
        "          start_point=6000\n",
        "        else: #16,17,18 utc\n",
        "          start_point=10000\n",
        "      latitud = latitud[start_point:end_point]\n",
        "      longitud = longitud[start_point:end_point]\n",
        "      cld_layertype= file.select('CloudLayerType')[start_point:end_point] \n",
        "    else: #grafica toda la orbita\n",
        "      cld_layertype= file.select('CloudLayerType')[:]\n",
        "\n",
        "    layers_df = pd.DataFrame({'Longitude': longitud, 'Latitude': latitud, \n",
        "                            'capa0':cld_layertype[:,0], 'capa1':cld_layertype[:,1],\n",
        "                            'capa2':cld_layertype[:,2], 'capa3':cld_layertype[:,3],\n",
        "                            'capa4':cld_layertype[:,4], 'capa5':cld_layertype[:,5],\n",
        "                            'capa6':cld_layertype[:,6], 'capa7':cld_layertype[:,7],\n",
        "                            'capa8':cld_layertype[:,8], 'capa9':cld_layertype[:,9]})\n",
        "    \n",
        "    return layers_df\n",
        "\n",
        "  def plot_cldclass_geos(self,layers_data, capa_n):\n",
        "    \"\"\"\n",
        "      Función que grafica los tipos de nubes en la capa asignada en la pasada del Cloudsat.\n",
        "    Parameters:\n",
        "    -----------\n",
        "    layers_data : Pandas Dataframe. \n",
        "      Dataframe de Pandas que contiene Latitud,Longitud,y la capa que se quiere graficar.\n",
        "    capa_n : int\n",
        "      Numero de capaque se quiere graficar. Van de 0 a 9.\n",
        "\n",
        "    Returns:\n",
        "    -----------\n",
        "    Plot. Tipo de nube en la capa 9 con órbita proyectada en proyeccion geoestacionaria de GOES16, \n",
        "    con mapa de costas de fondo.\n",
        "    \"\"\"\n",
        "    capa_str = 'capa' + str(capa_n)\n",
        "\n",
        "    #Generamos geodataframe a partir del pd dataframe de entrada\n",
        "    geo_df = gpd.GeoDataFrame(layers_data.loc[:,['Longitude','Latitude',capa_str]], \n",
        "                            geometry=gpd.points_from_xy(layers_data.Longitude, layers_data.Latitude))\n",
        "    geo_df.crs = {'init': 'epsg:4326'} # EPSG 4326 corresponds to coordinates in latitude and longitude\n",
        "    #Reprojecting into GOES16 geostationary projection \n",
        "    geodf_GOESproj = geo_df.to_crs(\"+proj=geos +h=35786023.0 +lon_0=-75.0\")\n",
        "    crs=ccrs.Geostationary(central_longitude=-75.0, satellite_height=35786023.0) #proyeccion geoestacionaria para Goes16\n",
        "    fig_dims = (10, 10)\n",
        "    fig, axis = plt.subplots(figsize=fig_dims)\n",
        "    axis = plt.axes(projection=crs)\n",
        "    axis.gridlines \n",
        "    axis.coastlines(resolution='10m',color='blue') \n",
        "    sns.scatterplot(x='Longitude', y='Latitude', data=geodf_GOESproj, hue=capa_str,\n",
        "                    palette='bright',s=2, transform=ccrs.PlateCarree())\n",
        "    axis.set_title(\"\"\"year {}; day {}; hour {}; {}\"\"\".format(self.year, self.julian_day, self.hour_utc,self.light))\n",
        "    plt.show()\n",
        "\n",
        "  def plotlatlon_cld(self, capa_n, layers_data_df):\n",
        "    \"\"\"\n",
        "       Grafica la capa capa_n con latitud en el eje y y longitud en el eje x, sin ninguna proyeccion\n",
        "        Parameters\n",
        "        ----------\n",
        "        capa_n : int\n",
        "            El numero de capa que quiero dibujar. Entre 0 y 9.\n",
        "        layers_data_df : pandas DataFrame\n",
        "            DataFrame de Pandas o Geopandas que incluya latitud, longitud y la capa que vamos a dibujar.\n",
        "        Returns\n",
        "        ----------\n",
        "        Plot.\"\"\"\n",
        "\n",
        "    capa_str = 'capa' + str(capa_n)\n",
        "    fig_dims = (6, 6)\n",
        "    fig, ax = plt.subplots(figsize=fig_dims)\n",
        "    sns.scatterplot(x='Longitude', y='Latitude', data=layers_data_df, hue='capa2',palette='bright',marker='o', s=1)\n",
        "    ax.set_xlabel('Longitude')\n",
        "    ax.set_ylabel('Latitude')\n",
        "    plt.show()\n"
      ],
      "execution_count": 225,
      "outputs": []
    },
    {
      "cell_type": "markdown",
      "metadata": {
        "id": "7Cp1aYNXiBPq"
      },
      "source": [
        "Probemos graficar algunas de interes. \n",
        "\n",
        "Vamos a abrir una imagen nocturna del 3 de enero de 2019. (Editar el path si es necesario)"
      ]
    },
    {
      "cell_type": "code",
      "metadata": {
        "id": "vBvrVEXS57DP"
      },
      "source": [
        "#Generamos objeto CldClass\n",
        "night_5= CldClass('/content/gdrive/MyDrive/Kaggle/2019003052836_67558_CS_2B-CLDCLASS_GRANULE_P1_R05_E08_F03.hdf')"
      ],
      "execution_count": 217,
      "outputs": []
    },
    {
      "cell_type": "code",
      "metadata": {
        "colab": {
          "base_uri": "https://localhost:8080/"
        },
        "id": "GfPhAycq6UCj",
        "outputId": "d9f4bb5d-f4d3-48f7-82d5-eb0538cf15f3"
      },
      "source": [
        "#Pedimos que nos de la fecha del archivo, hay dos formas de hacerlo:\n",
        "night_5.year, night_5.julian_day, night_5.hour_utc, night_5.light"
      ],
      "execution_count": 218,
      "outputs": [
        {
          "output_type": "execute_result",
          "data": {
            "text/plain": [
              "('2019', '003', '05', 'night')"
            ]
          },
          "metadata": {
            "tags": []
          },
          "execution_count": 218
        }
      ]
    },
    {
      "cell_type": "code",
      "metadata": {
        "id": "fsUxAXD8XjIj"
      },
      "source": [
        "#Abrimos el archivo sólo en la parte de sudamérica\n",
        "sud_df = night_5.open_cldclass()"
      ],
      "execution_count": 219,
      "outputs": []
    },
    {
      "cell_type": "code",
      "metadata": {
        "colab": {
          "base_uri": "https://localhost:8080/",
          "height": 645
        },
        "id": "CZhlHA5RYwjE",
        "outputId": "06209e69-8663-423b-8c4a-5bf7b0709f28"
      },
      "source": [
        "#Pedimos que lo grafique con proyeccion de GOES16\n",
        "night_5.plot_cldclass_geos(sud_df,0)"
      ],
      "execution_count": 220,
      "outputs": [
        {
          "output_type": "stream",
          "text": [
            "/usr/local/lib/python3.7/dist-packages/pyproj/crs/crs.py:53: FutureWarning: '+init=<authority>:<code>' syntax is deprecated. '<authority>:<code>' is the preferred initialization method. When making the change, be mindful of axis order changes: https://pyproj4.github.io/pyproj/stable/gotchas.html#axis-order-changes-in-proj-6\n",
            "  return _prepare_from_string(\" \".join(pjargs))\n"
          ],
          "name": "stderr"
        },
        {
          "output_type": "display_data",
          "data": {
            "image/png": "[encoded data removed]",
            "text/plain": [
              "<Figure size 720x720 with 1 Axes>"
            ]
          },
          "metadata": {
            "tags": [],
            "needs_background": "light"
          }
        }
      ]
    },
    {
      "cell_type": "markdown",
      "metadata": {
        "id": "5oEcsSrSRY-p"
      },
      "source": [
        "Probemos con una imagen diurna"
      ]
    },
    {
      "cell_type": "code",
      "metadata": {
        "id": "EmxwUmF3Rg0U"
      },
      "source": [
        "#Generamos objeto tipo CldClass\n",
        "day15 = CldClass('/content/gdrive/MyDrive/Kaggle/2019003151948_67564_CS_2B-CLDCLASS_GRANULE_P1_R05_E08_F03.hdf')"
      ],
      "execution_count": 226,
      "outputs": []
    },
    {
      "cell_type": "code",
      "metadata": {
        "colab": {
          "base_uri": "https://localhost:8080/",
          "height": 35
        },
        "id": "FVZY7SVwj-aL",
        "outputId": "5ebc35a7-ec9f-42b0-8170-3f40c50dbc21"
      },
      "source": [
        "day15.light"
      ],
      "execution_count": 227,
      "outputs": [
        {
          "output_type": "execute_result",
          "data": {
            "application/vnd.google.colaboratory.intrinsic+json": {
              "type": "string"
            },
            "text/plain": [
              "'day'"
            ]
          },
          "metadata": {
            "tags": []
          },
          "execution_count": 227
        }
      ]
    },
    {
      "cell_type": "code",
      "metadata": {
        "id": "YDMS7bOLRp8F"
      },
      "source": [
        "day15df = day.open_cldclass()"
      ],
      "execution_count": 228,
      "outputs": []
    },
    {
      "cell_type": "code",
      "metadata": {
        "colab": {
          "base_uri": "https://localhost:8080/",
          "height": 645
        },
        "id": "WQhMnRlzVDsQ",
        "outputId": "3c8b6de3-fa35-4583-e77d-c44925ca8718"
      },
      "source": [
        "day15.plot_cldclass_geos(day15df,0)"
      ],
      "execution_count": 229,
      "outputs": [
        {
          "output_type": "stream",
          "text": [
            "/usr/local/lib/python3.7/dist-packages/pyproj/crs/crs.py:53: FutureWarning: '+init=<authority>:<code>' syntax is deprecated. '<authority>:<code>' is the preferred initialization method. When making the change, be mindful of axis order changes: https://pyproj4.github.io/pyproj/stable/gotchas.html#axis-order-changes-in-proj-6\n",
            "  return _prepare_from_string(\" \".join(pjargs))\n"
          ],
          "name": "stderr"
        },
        {
          "output_type": "display_data",
          "data": {
            "image/png": "[encoded data removed]",
            "text/plain": [
              "<Figure size 720x720 with 1 Axes>"
            ]
          },
          "metadata": {
            "tags": [],
            "needs_background": "light"
          }
        }
      ]
    },
    {
      "cell_type": "code",
      "metadata": {
        "id": "JjdrLOAUfHrV"
      },
      "source": [
        "day16 = CldClass('/content/gdrive/MyDrive/Kaggle/2019003165820_67565_CS_2B-CLDCLASS_GRANULE_P1_R05_E08_F03.hdf')"
      ],
      "execution_count": 230,
      "outputs": []
    },
    {
      "cell_type": "code",
      "metadata": {
        "id": "wz2ThAcNfTxx"
      },
      "source": [
        "day16df = day16.open_cldclass()"
      ],
      "execution_count": 231,
      "outputs": []
    },
    {
      "cell_type": "code",
      "metadata": {
        "colab": {
          "base_uri": "https://localhost:8080/",
          "height": 645
        },
        "id": "02SUbHLQfoLz",
        "outputId": "5ced0585-49ba-42f1-db1b-c4520f09ffba"
      },
      "source": [
        "day16.plot_cldclass_geos(day16df,0)"
      ],
      "execution_count": 232,
      "outputs": [
        {
          "output_type": "stream",
          "text": [
            "/usr/local/lib/python3.7/dist-packages/pyproj/crs/crs.py:53: FutureWarning: '+init=<authority>:<code>' syntax is deprecated. '<authority>:<code>' is the preferred initialization method. When making the change, be mindful of axis order changes: https://pyproj4.github.io/pyproj/stable/gotchas.html#axis-order-changes-in-proj-6\n",
            "  return _prepare_from_string(\" \".join(pjargs))\n"
          ],
          "name": "stderr"
        },
        {
          "output_type": "display_data",
          "data": {
            "image/png": "[encoded data removed]",
            "text/plain": [
              "<Figure size 720x720 with 1 Axes>"
            ]
          },
          "metadata": {
            "tags": [],
            "needs_background": "light"
          }
        }
      ]
    },
    {
      "cell_type": "code",
      "metadata": {
        "id": "OPnZZVjFfxu9"
      },
      "source": [
        "day18 = CldClass('/content/gdrive/MyDrive/Kaggle/2019003183652_67566_CS_2B-CLDCLASS_GRANULE_P1_R05_E08_F03.hdf')\n"
      ],
      "execution_count": 233,
      "outputs": []
    },
    {
      "cell_type": "code",
      "metadata": {
        "id": "fGJtKMlrf_n6"
      },
      "source": [
        "day18df = day18.open_cldclass()"
      ],
      "execution_count": 234,
      "outputs": []
    },
    {
      "cell_type": "code",
      "metadata": {
        "colab": {
          "base_uri": "https://localhost:8080/",
          "height": 645
        },
        "id": "H2euqcKsgGUs",
        "outputId": "ec8fb8cb-1594-47df-ab4e-0235161c6fc2"
      },
      "source": [
        "day18.plot_cldclass_geos(day18df,0)"
      ],
      "execution_count": 235,
      "outputs": [
        {
          "output_type": "stream",
          "text": [
            "/usr/local/lib/python3.7/dist-packages/pyproj/crs/crs.py:53: FutureWarning: '+init=<authority>:<code>' syntax is deprecated. '<authority>:<code>' is the preferred initialization method. When making the change, be mindful of axis order changes: https://pyproj4.github.io/pyproj/stable/gotchas.html#axis-order-changes-in-proj-6\n",
            "  return _prepare_from_string(\" \".join(pjargs))\n"
          ],
          "name": "stderr"
        },
        {
          "output_type": "display_data",
          "data": {
            "image/png": "[encoded data removed]",
            "text/plain": [
              "<Figure size 720x720 with 1 Axes>"
            ]
          },
          "metadata": {
            "tags": [],
            "needs_background": "light"
          }
        }
      ]
    },
    {
      "cell_type": "markdown",
      "metadata": {
        "id": "4c3QLa9dE9Nh"
      },
      "source": [
        "# Transformar hdf a netcdf\n",
        "\n",
        "[Documentacion](https://www.ncl.ucar.edu/Document/Tools/ncl_convert2nc.shtml) del comando que usamos para convertir \n",
        "\n",
        "1º importamos conda"
      ]
    },
    {
      "cell_type": "code",
      "metadata": {
        "id": "K5Ih1GSDFKhd"
      },
      "source": [
        "%%bash\n",
        "wget -c https://repo.continuum.io/archive/Anaconda3-5.1.0-Linux-x86_64.sh\n",
        "chmod +x Anaconda3-5.1.0-Linux-x86_64.sh\n",
        "bash ./Anaconda3-5.1.0-Linux-x86_64.sh -b -f -p /usr/local"
      ],
      "execution_count": null,
      "outputs": []
    },
    {
      "cell_type": "code",
      "metadata": {
        "id": "py05jO8lFwSf"
      },
      "source": [
        "import sys \n",
        "sys.path.append('/usr/local/lib/python3.6/site-packages')"
      ],
      "execution_count": null,
      "outputs": []
    },
    {
      "cell_type": "code",
      "metadata": {
        "id": "Y7NoU952HOWn"
      },
      "source": [
        "!conda create -n ncl_stable -c conda-forge ncl --yes"
      ],
      "execution_count": null,
      "outputs": []
    },
    {
      "cell_type": "code",
      "metadata": {
        "id": "AEEx33v4HhpK"
      },
      "source": [
        "!conda update conda -y -q\n",
        "!source /usr/local/etc/profile.d/conda.sh\n",
        "!conda init \n",
        "!conda install -n root _license -y -q"
      ],
      "execution_count": null,
      "outputs": []
    },
    {
      "cell_type": "code",
      "metadata": {
        "id": "_i5zFriVPvAZ"
      },
      "source": [
        "%%bash\n",
        "source activate ncl_stable\n",
        "\n",
        "python\n",
        "import sys\n",
        "# some simple python commands\n",
        "sys.path.append('/usr/local/lib/python3.6/site-packages')\n",
        "print(sys.path)\n",
        "\n",
        "print(\"Python version\")\n",
        "print(sys.version)"
      ],
      "execution_count": null,
      "outputs": []
    },
    {
      "cell_type": "markdown",
      "metadata": {
        "id": "0nw8zSJXQVff"
      },
      "source": [
        "2º importar los archivos que estan guardados en drive"
      ]
    },
    {
      "cell_type": "code",
      "metadata": {
        "id": "IyEjqz0SQOrf"
      },
      "source": [
        "from google.colab import drive\n",
        "drive.mount('/content/gdrive')"
      ],
      "execution_count": null,
      "outputs": []
    },
    {
      "cell_type": "code",
      "metadata": {
        "id": "i5wJArYYQZg7"
      },
      "source": [
        "#Probamos un comando a ver si anda bien. Deberia dar algo como 6.6.2\n",
        "!source activate ncl_stable && ncl -V"
      ],
      "execution_count": null,
      "outputs": []
    },
    {
      "cell_type": "code",
      "metadata": {
        "id": "-SFhiZQUQtaJ"
      },
      "source": [
        "#Instalamos esto porque si no no anda\n",
        "%%bash\n",
        "apt-get install csh"
      ],
      "execution_count": null,
      "outputs": []
    },
    {
      "cell_type": "markdown",
      "metadata": {
        "id": "v3S1t-c6SN5A"
      },
      "source": [
        "3º convertir a .nc"
      ]
    },
    {
      "cell_type": "code",
      "metadata": {
        "id": "hljqtaQCQyGe"
      },
      "source": [
        "!source activate ncl_stable && ncl_convert2nc /content/2010017014344_19801_CS_2B-CLDCLASS_GRANULE_P1_R05_E03_F00.hdf -nc4c"
      ],
      "execution_count": null,
      "outputs": []
    },
    {
      "cell_type": "markdown",
      "metadata": {
        "id": "Q3FF-Y12SWei"
      },
      "source": [
        "Nota: instalar netcdf antes de hacer todo lo de ncl o abrir una nueva notebook y ahi correr las otras cosas porque sino es un lio, tarda mucho y no se instala porque se hace lio con los environments de conda"
      ]
    }
  ]
}